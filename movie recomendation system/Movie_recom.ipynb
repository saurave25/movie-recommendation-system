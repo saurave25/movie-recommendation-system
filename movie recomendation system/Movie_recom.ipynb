{
 "cells": [
  {
   "cell_type": "code",
   "execution_count": 1,
   "metadata": {},
   "outputs": [],
   "source": [
    "import pandas as pd \n",
    "import numpy as np \n"
   ]
  },
  {
   "cell_type": "code",
   "execution_count": 2,
   "metadata": {},
   "outputs": [],
   "source": [
    "movie = pd.read_csv(r'C:\\Users\\SAURAV RAJ\\Desktop\\tmdb_5000_movies.csv')\n",
    "credits = pd.read_csv(r'C:\\Users\\SAURAV RAJ\\Desktop\\tmdb_5000_credits.csv')"
   ]
  },
  {
   "cell_type": "code",
   "execution_count": 3,
   "metadata": {},
   "outputs": [
    {
     "data": {
      "text/html": [
       "<div>\n",
       "<style scoped>\n",
       "    .dataframe tbody tr th:only-of-type {\n",
       "        vertical-align: middle;\n",
       "    }\n",
       "\n",
       "    .dataframe tbody tr th {\n",
       "        vertical-align: top;\n",
       "    }\n",
       "\n",
       "    .dataframe thead th {\n",
       "        text-align: right;\n",
       "    }\n",
       "</style>\n",
       "<table border=\"1\" class=\"dataframe\">\n",
       "  <thead>\n",
       "    <tr style=\"text-align: right;\">\n",
       "      <th></th>\n",
       "      <th>budget</th>\n",
       "      <th>genres</th>\n",
       "      <th>homepage</th>\n",
       "      <th>id</th>\n",
       "      <th>keywords</th>\n",
       "      <th>original_language</th>\n",
       "      <th>original_title</th>\n",
       "      <th>overview</th>\n",
       "      <th>popularity</th>\n",
       "      <th>production_companies</th>\n",
       "      <th>production_countries</th>\n",
       "      <th>release_date</th>\n",
       "      <th>revenue</th>\n",
       "      <th>runtime</th>\n",
       "      <th>spoken_languages</th>\n",
       "      <th>status</th>\n",
       "      <th>tagline</th>\n",
       "      <th>title</th>\n",
       "      <th>vote_average</th>\n",
       "      <th>vote_count</th>\n",
       "    </tr>\n",
       "  </thead>\n",
       "  <tbody>\n",
       "    <tr>\n",
       "      <th>0</th>\n",
       "      <td>237000000</td>\n",
       "      <td>[{\"id\": 28, \"name\": \"Action\"}, {\"id\": 12, \"nam...</td>\n",
       "      <td>http://www.avatarmovie.com/</td>\n",
       "      <td>19995</td>\n",
       "      <td>[{\"id\": 1463, \"name\": \"culture clash\"}, {\"id\":...</td>\n",
       "      <td>en</td>\n",
       "      <td>Avatar</td>\n",
       "      <td>In the 22nd century, a paraplegic Marine is di...</td>\n",
       "      <td>150.437577</td>\n",
       "      <td>[{\"name\": \"Ingenious Film Partners\", \"id\": 289...</td>\n",
       "      <td>[{\"iso_3166_1\": \"US\", \"name\": \"United States o...</td>\n",
       "      <td>2009-12-10</td>\n",
       "      <td>2787965087</td>\n",
       "      <td>162.0</td>\n",
       "      <td>[{\"iso_639_1\": \"en\", \"name\": \"English\"}, {\"iso...</td>\n",
       "      <td>Released</td>\n",
       "      <td>Enter the World of Pandora.</td>\n",
       "      <td>Avatar</td>\n",
       "      <td>7.2</td>\n",
       "      <td>11800</td>\n",
       "    </tr>\n",
       "  </tbody>\n",
       "</table>\n",
       "</div>"
      ],
      "text/plain": [
       "      budget                                             genres  \\\n",
       "0  237000000  [{\"id\": 28, \"name\": \"Action\"}, {\"id\": 12, \"nam...   \n",
       "\n",
       "                      homepage     id  \\\n",
       "0  http://www.avatarmovie.com/  19995   \n",
       "\n",
       "                                            keywords original_language  \\\n",
       "0  [{\"id\": 1463, \"name\": \"culture clash\"}, {\"id\":...                en   \n",
       "\n",
       "  original_title                                           overview  \\\n",
       "0         Avatar  In the 22nd century, a paraplegic Marine is di...   \n",
       "\n",
       "   popularity                               production_companies  \\\n",
       "0  150.437577  [{\"name\": \"Ingenious Film Partners\", \"id\": 289...   \n",
       "\n",
       "                                production_countries release_date     revenue  \\\n",
       "0  [{\"iso_3166_1\": \"US\", \"name\": \"United States o...   2009-12-10  2787965087   \n",
       "\n",
       "   runtime                                   spoken_languages    status  \\\n",
       "0    162.0  [{\"iso_639_1\": \"en\", \"name\": \"English\"}, {\"iso...  Released   \n",
       "\n",
       "                       tagline   title  vote_average  vote_count  \n",
       "0  Enter the World of Pandora.  Avatar           7.2       11800  "
      ]
     },
     "execution_count": 3,
     "metadata": {},
     "output_type": "execute_result"
    }
   ],
   "source": [
    "movie.head(1)"
   ]
  },
  {
   "cell_type": "code",
   "execution_count": 4,
   "metadata": {},
   "outputs": [
    {
     "data": {
      "text/html": [
       "<div>\n",
       "<style scoped>\n",
       "    .dataframe tbody tr th:only-of-type {\n",
       "        vertical-align: middle;\n",
       "    }\n",
       "\n",
       "    .dataframe tbody tr th {\n",
       "        vertical-align: top;\n",
       "    }\n",
       "\n",
       "    .dataframe thead th {\n",
       "        text-align: right;\n",
       "    }\n",
       "</style>\n",
       "<table border=\"1\" class=\"dataframe\">\n",
       "  <thead>\n",
       "    <tr style=\"text-align: right;\">\n",
       "      <th></th>\n",
       "      <th>movie_id</th>\n",
       "      <th>title</th>\n",
       "      <th>cast</th>\n",
       "      <th>crew</th>\n",
       "    </tr>\n",
       "  </thead>\n",
       "  <tbody>\n",
       "    <tr>\n",
       "      <th>0</th>\n",
       "      <td>19995</td>\n",
       "      <td>Avatar</td>\n",
       "      <td>[{\"cast_id\": 242, \"character\": \"Jake Sully\", \"...</td>\n",
       "      <td>[{\"credit_id\": \"52fe48009251416c750aca23\", \"de...</td>\n",
       "    </tr>\n",
       "  </tbody>\n",
       "</table>\n",
       "</div>"
      ],
      "text/plain": [
       "   movie_id   title                                               cast  \\\n",
       "0     19995  Avatar  [{\"cast_id\": 242, \"character\": \"Jake Sully\", \"...   \n",
       "\n",
       "                                                crew  \n",
       "0  [{\"credit_id\": \"52fe48009251416c750aca23\", \"de...  "
      ]
     },
     "execution_count": 4,
     "metadata": {},
     "output_type": "execute_result"
    }
   ],
   "source": [
    "credits.head(1)"
   ]
  },
  {
   "cell_type": "code",
   "execution_count": 5,
   "metadata": {},
   "outputs": [
    {
     "data": {
      "text/plain": [
       "array(['[{\"cast_id\": 242, \"character\": \"Jake Sully\", \"credit_id\": \"5602a8a7c3a3685532001c9a\", \"gender\": 2, \"id\": 65731, \"name\": \"Sam Worthington\", \"order\": 0}, {\"cast_id\": 3, \"character\": \"Neytiri\", \"credit_id\": \"52fe48009251416c750ac9cb\", \"gender\": 1, \"id\": 8691, \"name\": \"Zoe Saldana\", \"order\": 1}, {\"cast_id\": 25, \"character\": \"Dr. Grace Augustine\", \"credit_id\": \"52fe48009251416c750aca39\", \"gender\": 1, \"id\": 10205, \"name\": \"Sigourney Weaver\", \"order\": 2}, {\"cast_id\": 4, \"character\": \"Col. Quaritch\", \"credit_id\": \"52fe48009251416c750ac9cf\", \"gender\": 2, \"id\": 32747, \"name\": \"Stephen Lang\", \"order\": 3}, {\"cast_id\": 5, \"character\": \"Trudy Chacon\", \"credit_id\": \"52fe48009251416c750ac9d3\", \"gender\": 1, \"id\": 17647, \"name\": \"Michelle Rodriguez\", \"order\": 4}, {\"cast_id\": 8, \"character\": \"Selfridge\", \"credit_id\": \"52fe48009251416c750ac9e1\", \"gender\": 2, \"id\": 1771, \"name\": \"Giovanni Ribisi\", \"order\": 5}, {\"cast_id\": 7, \"character\": \"Norm Spellman\", \"credit_id\": \"52fe48009251416c750ac9dd\", \"gender\": 2, \"id\": 59231, \"name\": \"Joel David Moore\", \"order\": 6}, {\"cast_id\": 9, \"character\": \"Moat\", \"credit_id\": \"52fe48009251416c750ac9e5\", \"gender\": 1, \"id\": 30485, \"name\": \"CCH Pounder\", \"order\": 7}, {\"cast_id\": 11, \"character\": \"Eytukan\", \"credit_id\": \"52fe48009251416c750ac9ed\", \"gender\": 2, \"id\": 15853, \"name\": \"Wes Studi\", \"order\": 8}, {\"cast_id\": 10, \"character\": \"Tsu\\'Tey\", \"credit_id\": \"52fe48009251416c750ac9e9\", \"gender\": 2, \"id\": 10964, \"name\": \"Laz Alonso\", \"order\": 9}, {\"cast_id\": 12, \"character\": \"Dr. Max Patel\", \"credit_id\": \"52fe48009251416c750ac9f1\", \"gender\": 2, \"id\": 95697, \"name\": \"Dileep Rao\", \"order\": 10}, {\"cast_id\": 13, \"character\": \"Lyle Wainfleet\", \"credit_id\": \"52fe48009251416c750ac9f5\", \"gender\": 2, \"id\": 98215, \"name\": \"Matt Gerald\", \"order\": 11}, {\"cast_id\": 32, \"character\": \"Private Fike\", \"credit_id\": \"52fe48009251416c750aca5b\", \"gender\": 2, \"id\": 154153, \"name\": \"Sean Anthony Moran\", \"order\": 12}, {\"cast_id\": 33, \"character\": \"Cryo Vault Med Tech\", \"credit_id\": \"52fe48009251416c750aca5f\", \"gender\": 2, \"id\": 397312, \"name\": \"Jason Whyte\", \"order\": 13}, {\"cast_id\": 34, \"character\": \"Venture Star Crew Chief\", \"credit_id\": \"52fe48009251416c750aca63\", \"gender\": 2, \"id\": 42317, \"name\": \"Scott Lawrence\", \"order\": 14}, {\"cast_id\": 35, \"character\": \"Lock Up Trooper\", \"credit_id\": \"52fe48009251416c750aca67\", \"gender\": 2, \"id\": 986734, \"name\": \"Kelly Kilgour\", \"order\": 15}, {\"cast_id\": 36, \"character\": \"Shuttle Pilot\", \"credit_id\": \"52fe48009251416c750aca6b\", \"gender\": 0, \"id\": 1207227, \"name\": \"James Patrick Pitt\", \"order\": 16}, {\"cast_id\": 37, \"character\": \"Shuttle Co-Pilot\", \"credit_id\": \"52fe48009251416c750aca6f\", \"gender\": 0, \"id\": 1180936, \"name\": \"Sean Patrick Murphy\", \"order\": 17}, {\"cast_id\": 38, \"character\": \"Shuttle Crew Chief\", \"credit_id\": \"52fe48009251416c750aca73\", \"gender\": 2, \"id\": 1019578, \"name\": \"Peter Dillon\", \"order\": 18}, {\"cast_id\": 39, \"character\": \"Tractor Operator / Troupe\", \"credit_id\": \"52fe48009251416c750aca77\", \"gender\": 0, \"id\": 91443, \"name\": \"Kevin Dorman\", \"order\": 19}, {\"cast_id\": 40, \"character\": \"Dragon Gunship Pilot\", \"credit_id\": \"52fe48009251416c750aca7b\", \"gender\": 2, \"id\": 173391, \"name\": \"Kelson Henderson\", \"order\": 20}, {\"cast_id\": 41, \"character\": \"Dragon Gunship Gunner\", \"credit_id\": \"52fe48009251416c750aca7f\", \"gender\": 0, \"id\": 1207236, \"name\": \"David Van Horn\", \"order\": 21}, {\"cast_id\": 42, \"character\": \"Dragon Gunship Navigator\", \"credit_id\": \"52fe48009251416c750aca83\", \"gender\": 0, \"id\": 215913, \"name\": \"Jacob Tomuri\", \"order\": 22}, {\"cast_id\": 43, \"character\": \"Suit #1\", \"credit_id\": \"52fe48009251416c750aca87\", \"gender\": 0, \"id\": 143206, \"name\": \"Michael Blain-Rozgay\", \"order\": 23}, {\"cast_id\": 44, \"character\": \"Suit #2\", \"credit_id\": \"52fe48009251416c750aca8b\", \"gender\": 2, \"id\": 169676, \"name\": \"Jon Curry\", \"order\": 24}, {\"cast_id\": 46, \"character\": \"Ambient Room Tech\", \"credit_id\": \"52fe48009251416c750aca8f\", \"gender\": 0, \"id\": 1048610, \"name\": \"Luke Hawker\", \"order\": 25}, {\"cast_id\": 47, \"character\": \"Ambient Room Tech / Troupe\", \"credit_id\": \"52fe48009251416c750aca93\", \"gender\": 0, \"id\": 42288, \"name\": \"Woody Schultz\", \"order\": 26}, {\"cast_id\": 48, \"character\": \"Horse Clan Leader\", \"credit_id\": \"52fe48009251416c750aca97\", \"gender\": 2, \"id\": 68278, \"name\": \"Peter Mensah\", \"order\": 27}, {\"cast_id\": 49, \"character\": \"Link Room Tech\", \"credit_id\": \"52fe48009251416c750aca9b\", \"gender\": 0, \"id\": 1207247, \"name\": \"Sonia Yee\", \"order\": 28}, {\"cast_id\": 50, \"character\": \"Basketball Avatar / Troupe\", \"credit_id\": \"52fe48009251416c750aca9f\", \"gender\": 1, \"id\": 1207248, \"name\": \"Jahnel Curfman\", \"order\": 29}, {\"cast_id\": 51, \"character\": \"Basketball Avatar\", \"credit_id\": \"52fe48009251416c750acaa3\", \"gender\": 0, \"id\": 89714, \"name\": \"Ilram Choi\", \"order\": 30}, {\"cast_id\": 52, \"character\": \"Na\\'vi Child\", \"credit_id\": \"52fe48009251416c750acaa7\", \"gender\": 0, \"id\": 1207249, \"name\": \"Kyla Warren\", \"order\": 31}, {\"cast_id\": 53, \"character\": \"Troupe\", \"credit_id\": \"52fe48009251416c750acaab\", \"gender\": 0, \"id\": 1207250, \"name\": \"Lisa Roumain\", \"order\": 32}, {\"cast_id\": 54, \"character\": \"Troupe\", \"credit_id\": \"52fe48009251416c750acaaf\", \"gender\": 1, \"id\": 83105, \"name\": \"Debra Wilson\", \"order\": 33}, {\"cast_id\": 57, \"character\": \"Troupe\", \"credit_id\": \"52fe48009251416c750acabb\", \"gender\": 0, \"id\": 1207253, \"name\": \"Chris Mala\", \"order\": 34}, {\"cast_id\": 55, \"character\": \"Troupe\", \"credit_id\": \"52fe48009251416c750acab3\", \"gender\": 0, \"id\": 1207251, \"name\": \"Taylor Kibby\", \"order\": 35}, {\"cast_id\": 56, \"character\": \"Troupe\", \"credit_id\": \"52fe48009251416c750acab7\", \"gender\": 0, \"id\": 1207252, \"name\": \"Jodie Landau\", \"order\": 36}, {\"cast_id\": 58, \"character\": \"Troupe\", \"credit_id\": \"52fe48009251416c750acabf\", \"gender\": 0, \"id\": 1207254, \"name\": \"Julie Lamm\", \"order\": 37}, {\"cast_id\": 59, \"character\": \"Troupe\", \"credit_id\": \"52fe48009251416c750acac3\", \"gender\": 0, \"id\": 1207257, \"name\": \"Cullen B. Madden\", \"order\": 38}, {\"cast_id\": 60, \"character\": \"Troupe\", \"credit_id\": \"52fe48009251416c750acac7\", \"gender\": 0, \"id\": 1207259, \"name\": \"Joseph Brady Madden\", \"order\": 39}, {\"cast_id\": 61, \"character\": \"Troupe\", \"credit_id\": \"52fe48009251416c750acacb\", \"gender\": 0, \"id\": 1207262, \"name\": \"Frankie Torres\", \"order\": 40}, {\"cast_id\": 62, \"character\": \"Troupe\", \"credit_id\": \"52fe48009251416c750acacf\", \"gender\": 1, \"id\": 1158600, \"name\": \"Austin Wilson\", \"order\": 41}, {\"cast_id\": 63, \"character\": \"Troupe\", \"credit_id\": \"52fe48019251416c750acad3\", \"gender\": 1, \"id\": 983705, \"name\": \"Sara Wilson\", \"order\": 42}, {\"cast_id\": 64, \"character\": \"Troupe\", \"credit_id\": \"52fe48019251416c750acad7\", \"gender\": 0, \"id\": 1207263, \"name\": \"Tamica Washington-Miller\", \"order\": 43}, {\"cast_id\": 65, \"character\": \"Op Center Staff\", \"credit_id\": \"52fe48019251416c750acadb\", \"gender\": 1, \"id\": 1145098, \"name\": \"Lucy Briant\", \"order\": 44}, {\"cast_id\": 66, \"character\": \"Op Center Staff\", \"credit_id\": \"52fe48019251416c750acadf\", \"gender\": 2, \"id\": 33305, \"name\": \"Nathan Meister\", \"order\": 45}, {\"cast_id\": 67, \"character\": \"Op Center Staff\", \"credit_id\": \"52fe48019251416c750acae3\", \"gender\": 0, \"id\": 1207264, \"name\": \"Gerry Blair\", \"order\": 46}, {\"cast_id\": 68, \"character\": \"Op Center Staff\", \"credit_id\": \"52fe48019251416c750acae7\", \"gender\": 2, \"id\": 33311, \"name\": \"Matthew Chamberlain\", \"order\": 47}, {\"cast_id\": 69, \"character\": \"Op Center Staff\", \"credit_id\": \"52fe48019251416c750acaeb\", \"gender\": 0, \"id\": 1207265, \"name\": \"Paul Yates\", \"order\": 48}, {\"cast_id\": 70, \"character\": \"Op Center Duty Officer\", \"credit_id\": \"52fe48019251416c750acaef\", \"gender\": 0, \"id\": 1207266, \"name\": \"Wray Wilson\", \"order\": 49}, {\"cast_id\": 71, \"character\": \"Op Center Staff\", \"credit_id\": \"52fe48019251416c750acaf3\", \"gender\": 2, \"id\": 54492, \"name\": \"James Gaylyn\", \"order\": 50}, {\"cast_id\": 72, \"character\": \"Dancer\", \"credit_id\": \"52fe48019251416c750acaf7\", \"gender\": 0, \"id\": 1207267, \"name\": \"Melvin Leno Clark III\", \"order\": 51}, {\"cast_id\": 73, \"character\": \"Dancer\", \"credit_id\": \"52fe48019251416c750acafb\", \"gender\": 0, \"id\": 1207268, \"name\": \"Carvon Futrell\", \"order\": 52}, {\"cast_id\": 74, \"character\": \"Dancer\", \"credit_id\": \"52fe48019251416c750acaff\", \"gender\": 0, \"id\": 1207269, \"name\": \"Brandon Jelkes\", \"order\": 53}, {\"cast_id\": 75, \"character\": \"Dancer\", \"credit_id\": \"52fe48019251416c750acb03\", \"gender\": 0, \"id\": 1207270, \"name\": \"Micah Moch\", \"order\": 54}, {\"cast_id\": 76, \"character\": \"Dancer\", \"credit_id\": \"52fe48019251416c750acb07\", \"gender\": 0, \"id\": 1207271, \"name\": \"Hanniyah Muhammad\", \"order\": 55}, {\"cast_id\": 77, \"character\": \"Dancer\", \"credit_id\": \"52fe48019251416c750acb0b\", \"gender\": 0, \"id\": 1207272, \"name\": \"Christopher Nolen\", \"order\": 56}, {\"cast_id\": 78, \"character\": \"Dancer\", \"credit_id\": \"52fe48019251416c750acb0f\", \"gender\": 0, \"id\": 1207273, \"name\": \"Christa Oliver\", \"order\": 57}, {\"cast_id\": 79, \"character\": \"Dancer\", \"credit_id\": \"52fe48019251416c750acb13\", \"gender\": 0, \"id\": 1207274, \"name\": \"April Marie Thomas\", \"order\": 58}, {\"cast_id\": 80, \"character\": \"Dancer\", \"credit_id\": \"52fe48019251416c750acb17\", \"gender\": 0, \"id\": 1207275, \"name\": \"Bravita A. Threatt\", \"order\": 59}, {\"cast_id\": 81, \"character\": \"Mining Chief (uncredited)\", \"credit_id\": \"52fe48019251416c750acb1b\", \"gender\": 0, \"id\": 1207276, \"name\": \"Colin Bleasdale\", \"order\": 60}, {\"cast_id\": 82, \"character\": \"Veteran Miner (uncredited)\", \"credit_id\": \"52fe48019251416c750acb1f\", \"gender\": 0, \"id\": 107969, \"name\": \"Mike Bodnar\", \"order\": 61}, {\"cast_id\": 83, \"character\": \"Richard (uncredited)\", \"credit_id\": \"52fe48019251416c750acb23\", \"gender\": 0, \"id\": 1207278, \"name\": \"Matt Clayton\", \"order\": 62}, {\"cast_id\": 84, \"character\": \"Nav\\'i (uncredited)\", \"credit_id\": \"52fe48019251416c750acb27\", \"gender\": 1, \"id\": 147898, \"name\": \"Nicole Dionne\", \"order\": 63}, {\"cast_id\": 85, \"character\": \"Trooper (uncredited)\", \"credit_id\": \"52fe48019251416c750acb2b\", \"gender\": 0, \"id\": 1207280, \"name\": \"Jamie Harrison\", \"order\": 64}, {\"cast_id\": 86, \"character\": \"Trooper (uncredited)\", \"credit_id\": \"52fe48019251416c750acb2f\", \"gender\": 0, \"id\": 1207281, \"name\": \"Allan Henry\", \"order\": 65}, {\"cast_id\": 87, \"character\": \"Ground Technician (uncredited)\", \"credit_id\": \"52fe48019251416c750acb33\", \"gender\": 2, \"id\": 1207282, \"name\": \"Anthony Ingruber\", \"order\": 66}, {\"cast_id\": 88, \"character\": \"Flight Crew Mechanic (uncredited)\", \"credit_id\": \"52fe48019251416c750acb37\", \"gender\": 0, \"id\": 1207283, \"name\": \"Ashley Jeffery\", \"order\": 67}, {\"cast_id\": 14, \"character\": \"Samson Pilot\", \"credit_id\": \"52fe48009251416c750ac9f9\", \"gender\": 0, \"id\": 98216, \"name\": \"Dean Knowsley\", \"order\": 68}, {\"cast_id\": 89, \"character\": \"Trooper (uncredited)\", \"credit_id\": \"52fe48019251416c750acb3b\", \"gender\": 0, \"id\": 1201399, \"name\": \"Joseph Mika-Hunt\", \"order\": 69}, {\"cast_id\": 90, \"character\": \"Banshee (uncredited)\", \"credit_id\": \"52fe48019251416c750acb3f\", \"gender\": 0, \"id\": 236696, \"name\": \"Terry Notary\", \"order\": 70}, {\"cast_id\": 91, \"character\": \"Soldier (uncredited)\", \"credit_id\": \"52fe48019251416c750acb43\", \"gender\": 0, \"id\": 1207287, \"name\": \"Kai Pantano\", \"order\": 71}, {\"cast_id\": 92, \"character\": \"Blast Technician (uncredited)\", \"credit_id\": \"52fe48019251416c750acb47\", \"gender\": 0, \"id\": 1207288, \"name\": \"Logan Pithyou\", \"order\": 72}, {\"cast_id\": 93, \"character\": \"Vindum Raah (uncredited)\", \"credit_id\": \"52fe48019251416c750acb4b\", \"gender\": 0, \"id\": 1207289, \"name\": \"Stuart Pollock\", \"order\": 73}, {\"cast_id\": 94, \"character\": \"Hero (uncredited)\", \"credit_id\": \"52fe48019251416c750acb4f\", \"gender\": 0, \"id\": 584868, \"name\": \"Raja\", \"order\": 74}, {\"cast_id\": 95, \"character\": \"Ops Centreworker (uncredited)\", \"credit_id\": \"52fe48019251416c750acb53\", \"gender\": 0, \"id\": 1207290, \"name\": \"Gareth Ruck\", \"order\": 75}, {\"cast_id\": 96, \"character\": \"Engineer (uncredited)\", \"credit_id\": \"52fe48019251416c750acb57\", \"gender\": 0, \"id\": 1062463, \"name\": \"Rhian Sheehan\", \"order\": 76}, {\"cast_id\": 97, \"character\": \"Col. Quaritch\\'s Mech Suit (uncredited)\", \"credit_id\": \"52fe48019251416c750acb5b\", \"gender\": 0, \"id\": 60656, \"name\": \"T. J. Storm\", \"order\": 77}, {\"cast_id\": 98, \"character\": \"Female Marine (uncredited)\", \"credit_id\": \"52fe48019251416c750acb5f\", \"gender\": 0, \"id\": 1207291, \"name\": \"Jodie Taylor\", \"order\": 78}, {\"cast_id\": 99, \"character\": \"Ikran Clan Leader (uncredited)\", \"credit_id\": \"52fe48019251416c750acb63\", \"gender\": 1, \"id\": 1186027, \"name\": \"Alicia Vela-Bailey\", \"order\": 79}, {\"cast_id\": 100, \"character\": \"Geologist (uncredited)\", \"credit_id\": \"52fe48019251416c750acb67\", \"gender\": 0, \"id\": 1207292, \"name\": \"Richard Whiteside\", \"order\": 80}, {\"cast_id\": 101, \"character\": \"Na\\'vi (uncredited)\", \"credit_id\": \"52fe48019251416c750acb6b\", \"gender\": 0, \"id\": 103259, \"name\": \"Nikie Zambo\", \"order\": 81}, {\"cast_id\": 102, \"character\": \"Ambient Room Tech / Troupe\", \"credit_id\": \"52fe48019251416c750acb6f\", \"gender\": 1, \"id\": 42286, \"name\": \"Julene Renee\", \"order\": 82}]'],\n",
       "      dtype=object)"
      ]
     },
     "execution_count": 5,
     "metadata": {},
     "output_type": "execute_result"
    }
   ],
   "source": [
    "credits.head(1)['cast'].values"
   ]
  },
  {
   "cell_type": "code",
   "execution_count": 6,
   "metadata": {},
   "outputs": [
    {
     "data": {
      "text/plain": [
       "(4803, 20)"
      ]
     },
     "execution_count": 6,
     "metadata": {},
     "output_type": "execute_result"
    }
   ],
   "source": [
    "movie.shape"
   ]
  },
  {
   "cell_type": "code",
   "execution_count": 7,
   "metadata": {},
   "outputs": [
    {
     "data": {
      "text/plain": [
       "(4803, 4)"
      ]
     },
     "execution_count": 7,
     "metadata": {},
     "output_type": "execute_result"
    }
   ],
   "source": [
    "credits.shape"
   ]
  },
  {
   "cell_type": "code",
   "execution_count": 8,
   "metadata": {},
   "outputs": [],
   "source": [
    "movie = movie.merge(credits , on= 'title')"
   ]
  },
  {
   "cell_type": "code",
   "execution_count": 9,
   "metadata": {},
   "outputs": [],
   "source": [
    "# remove the useless column\n"
   ]
  },
  {
   "cell_type": "code",
   "execution_count": 10,
   "metadata": {},
   "outputs": [
    {
     "data": {
      "text/html": [
       "<div>\n",
       "<style scoped>\n",
       "    .dataframe tbody tr th:only-of-type {\n",
       "        vertical-align: middle;\n",
       "    }\n",
       "\n",
       "    .dataframe tbody tr th {\n",
       "        vertical-align: top;\n",
       "    }\n",
       "\n",
       "    .dataframe thead th {\n",
       "        text-align: right;\n",
       "    }\n",
       "</style>\n",
       "<table border=\"1\" class=\"dataframe\">\n",
       "  <thead>\n",
       "    <tr style=\"text-align: right;\">\n",
       "      <th></th>\n",
       "      <th>budget</th>\n",
       "      <th>genres</th>\n",
       "      <th>homepage</th>\n",
       "      <th>id</th>\n",
       "      <th>keywords</th>\n",
       "      <th>original_language</th>\n",
       "      <th>original_title</th>\n",
       "      <th>overview</th>\n",
       "      <th>popularity</th>\n",
       "      <th>production_companies</th>\n",
       "      <th>...</th>\n",
       "      <th>runtime</th>\n",
       "      <th>spoken_languages</th>\n",
       "      <th>status</th>\n",
       "      <th>tagline</th>\n",
       "      <th>title</th>\n",
       "      <th>vote_average</th>\n",
       "      <th>vote_count</th>\n",
       "      <th>movie_id</th>\n",
       "      <th>cast</th>\n",
       "      <th>crew</th>\n",
       "    </tr>\n",
       "  </thead>\n",
       "  <tbody>\n",
       "    <tr>\n",
       "      <th>0</th>\n",
       "      <td>237000000</td>\n",
       "      <td>[{\"id\": 28, \"name\": \"Action\"}, {\"id\": 12, \"nam...</td>\n",
       "      <td>http://www.avatarmovie.com/</td>\n",
       "      <td>19995</td>\n",
       "      <td>[{\"id\": 1463, \"name\": \"culture clash\"}, {\"id\":...</td>\n",
       "      <td>en</td>\n",
       "      <td>Avatar</td>\n",
       "      <td>In the 22nd century, a paraplegic Marine is di...</td>\n",
       "      <td>150.437577</td>\n",
       "      <td>[{\"name\": \"Ingenious Film Partners\", \"id\": 289...</td>\n",
       "      <td>...</td>\n",
       "      <td>162.0</td>\n",
       "      <td>[{\"iso_639_1\": \"en\", \"name\": \"English\"}, {\"iso...</td>\n",
       "      <td>Released</td>\n",
       "      <td>Enter the World of Pandora.</td>\n",
       "      <td>Avatar</td>\n",
       "      <td>7.2</td>\n",
       "      <td>11800</td>\n",
       "      <td>19995</td>\n",
       "      <td>[{\"cast_id\": 242, \"character\": \"Jake Sully\", \"...</td>\n",
       "      <td>[{\"credit_id\": \"52fe48009251416c750aca23\", \"de...</td>\n",
       "    </tr>\n",
       "  </tbody>\n",
       "</table>\n",
       "<p>1 rows × 23 columns</p>\n",
       "</div>"
      ],
      "text/plain": [
       "      budget                                             genres  \\\n",
       "0  237000000  [{\"id\": 28, \"name\": \"Action\"}, {\"id\": 12, \"nam...   \n",
       "\n",
       "                      homepage     id  \\\n",
       "0  http://www.avatarmovie.com/  19995   \n",
       "\n",
       "                                            keywords original_language  \\\n",
       "0  [{\"id\": 1463, \"name\": \"culture clash\"}, {\"id\":...                en   \n",
       "\n",
       "  original_title                                           overview  \\\n",
       "0         Avatar  In the 22nd century, a paraplegic Marine is di...   \n",
       "\n",
       "   popularity                               production_companies  ... runtime  \\\n",
       "0  150.437577  [{\"name\": \"Ingenious Film Partners\", \"id\": 289...  ...   162.0   \n",
       "\n",
       "                                    spoken_languages    status  \\\n",
       "0  [{\"iso_639_1\": \"en\", \"name\": \"English\"}, {\"iso...  Released   \n",
       "\n",
       "                       tagline   title vote_average vote_count movie_id  \\\n",
       "0  Enter the World of Pandora.  Avatar          7.2      11800    19995   \n",
       "\n",
       "                                                cast  \\\n",
       "0  [{\"cast_id\": 242, \"character\": \"Jake Sully\", \"...   \n",
       "\n",
       "                                                crew  \n",
       "0  [{\"credit_id\": \"52fe48009251416c750aca23\", \"de...  \n",
       "\n",
       "[1 rows x 23 columns]"
      ]
     },
     "execution_count": 10,
     "metadata": {},
     "output_type": "execute_result"
    }
   ],
   "source": [
    "movie.head(1)"
   ]
  },
  {
   "cell_type": "code",
   "execution_count": 11,
   "metadata": {},
   "outputs": [
    {
     "data": {
      "text/plain": [
       "original_language\n",
       "en    4510\n",
       "fr      70\n",
       "es      32\n",
       "zh      27\n",
       "de      27\n",
       "hi      19\n",
       "ja      16\n",
       "it      14\n",
       "ko      12\n",
       "cn      12\n",
       "ru      11\n",
       "pt       9\n",
       "da       7\n",
       "sv       5\n",
       "nl       4\n",
       "fa       4\n",
       "th       3\n",
       "he       3\n",
       "ta       2\n",
       "cs       2\n",
       "ro       2\n",
       "id       2\n",
       "ar       2\n",
       "vi       1\n",
       "sl       1\n",
       "ps       1\n",
       "no       1\n",
       "ky       1\n",
       "hu       1\n",
       "pl       1\n",
       "af       1\n",
       "nb       1\n",
       "tr       1\n",
       "is       1\n",
       "xx       1\n",
       "te       1\n",
       "el       1\n",
       "Name: count, dtype: int64"
      ]
     },
     "execution_count": 11,
     "metadata": {},
     "output_type": "execute_result"
    }
   ],
   "source": [
    "movie['original_language'].value_counts()"
   ]
  },
  {
   "cell_type": "code",
   "execution_count": 12,
   "metadata": {},
   "outputs": [],
   "source": [
    "# important columns - gernes , id , keywords , overview , title , cast , crew \n"
   ]
  },
  {
   "cell_type": "code",
   "execution_count": 13,
   "metadata": {},
   "outputs": [],
   "source": [
    "movie = movie[['movie_id' , 'title' , 'overview' ,'genres' , 'keywords' , 'cast' ,'crew']] "
   ]
  },
  {
   "cell_type": "code",
   "execution_count": 14,
   "metadata": {},
   "outputs": [
    {
     "data": {
      "text/html": [
       "<div>\n",
       "<style scoped>\n",
       "    .dataframe tbody tr th:only-of-type {\n",
       "        vertical-align: middle;\n",
       "    }\n",
       "\n",
       "    .dataframe tbody tr th {\n",
       "        vertical-align: top;\n",
       "    }\n",
       "\n",
       "    .dataframe thead th {\n",
       "        text-align: right;\n",
       "    }\n",
       "</style>\n",
       "<table border=\"1\" class=\"dataframe\">\n",
       "  <thead>\n",
       "    <tr style=\"text-align: right;\">\n",
       "      <th></th>\n",
       "      <th>movie_id</th>\n",
       "      <th>title</th>\n",
       "      <th>overview</th>\n",
       "      <th>genres</th>\n",
       "      <th>keywords</th>\n",
       "      <th>cast</th>\n",
       "      <th>crew</th>\n",
       "    </tr>\n",
       "  </thead>\n",
       "  <tbody>\n",
       "    <tr>\n",
       "      <th>0</th>\n",
       "      <td>19995</td>\n",
       "      <td>Avatar</td>\n",
       "      <td>In the 22nd century, a paraplegic Marine is di...</td>\n",
       "      <td>[{\"id\": 28, \"name\": \"Action\"}, {\"id\": 12, \"nam...</td>\n",
       "      <td>[{\"id\": 1463, \"name\": \"culture clash\"}, {\"id\":...</td>\n",
       "      <td>[{\"cast_id\": 242, \"character\": \"Jake Sully\", \"...</td>\n",
       "      <td>[{\"credit_id\": \"52fe48009251416c750aca23\", \"de...</td>\n",
       "    </tr>\n",
       "    <tr>\n",
       "      <th>1</th>\n",
       "      <td>285</td>\n",
       "      <td>Pirates of the Caribbean: At World's End</td>\n",
       "      <td>Captain Barbossa, long believed to be dead, ha...</td>\n",
       "      <td>[{\"id\": 12, \"name\": \"Adventure\"}, {\"id\": 14, \"...</td>\n",
       "      <td>[{\"id\": 270, \"name\": \"ocean\"}, {\"id\": 726, \"na...</td>\n",
       "      <td>[{\"cast_id\": 4, \"character\": \"Captain Jack Spa...</td>\n",
       "      <td>[{\"credit_id\": \"52fe4232c3a36847f800b579\", \"de...</td>\n",
       "    </tr>\n",
       "    <tr>\n",
       "      <th>2</th>\n",
       "      <td>206647</td>\n",
       "      <td>Spectre</td>\n",
       "      <td>A cryptic message from Bond’s past sends him o...</td>\n",
       "      <td>[{\"id\": 28, \"name\": \"Action\"}, {\"id\": 12, \"nam...</td>\n",
       "      <td>[{\"id\": 470, \"name\": \"spy\"}, {\"id\": 818, \"name...</td>\n",
       "      <td>[{\"cast_id\": 1, \"character\": \"James Bond\", \"cr...</td>\n",
       "      <td>[{\"credit_id\": \"54805967c3a36829b5002c41\", \"de...</td>\n",
       "    </tr>\n",
       "    <tr>\n",
       "      <th>3</th>\n",
       "      <td>49026</td>\n",
       "      <td>The Dark Knight Rises</td>\n",
       "      <td>Following the death of District Attorney Harve...</td>\n",
       "      <td>[{\"id\": 28, \"name\": \"Action\"}, {\"id\": 80, \"nam...</td>\n",
       "      <td>[{\"id\": 849, \"name\": \"dc comics\"}, {\"id\": 853,...</td>\n",
       "      <td>[{\"cast_id\": 2, \"character\": \"Bruce Wayne / Ba...</td>\n",
       "      <td>[{\"credit_id\": \"52fe4781c3a36847f81398c3\", \"de...</td>\n",
       "    </tr>\n",
       "  </tbody>\n",
       "</table>\n",
       "</div>"
      ],
      "text/plain": [
       "   movie_id                                     title  \\\n",
       "0     19995                                    Avatar   \n",
       "1       285  Pirates of the Caribbean: At World's End   \n",
       "2    206647                                   Spectre   \n",
       "3     49026                     The Dark Knight Rises   \n",
       "\n",
       "                                            overview  \\\n",
       "0  In the 22nd century, a paraplegic Marine is di...   \n",
       "1  Captain Barbossa, long believed to be dead, ha...   \n",
       "2  A cryptic message from Bond’s past sends him o...   \n",
       "3  Following the death of District Attorney Harve...   \n",
       "\n",
       "                                              genres  \\\n",
       "0  [{\"id\": 28, \"name\": \"Action\"}, {\"id\": 12, \"nam...   \n",
       "1  [{\"id\": 12, \"name\": \"Adventure\"}, {\"id\": 14, \"...   \n",
       "2  [{\"id\": 28, \"name\": \"Action\"}, {\"id\": 12, \"nam...   \n",
       "3  [{\"id\": 28, \"name\": \"Action\"}, {\"id\": 80, \"nam...   \n",
       "\n",
       "                                            keywords  \\\n",
       "0  [{\"id\": 1463, \"name\": \"culture clash\"}, {\"id\":...   \n",
       "1  [{\"id\": 270, \"name\": \"ocean\"}, {\"id\": 726, \"na...   \n",
       "2  [{\"id\": 470, \"name\": \"spy\"}, {\"id\": 818, \"name...   \n",
       "3  [{\"id\": 849, \"name\": \"dc comics\"}, {\"id\": 853,...   \n",
       "\n",
       "                                                cast  \\\n",
       "0  [{\"cast_id\": 242, \"character\": \"Jake Sully\", \"...   \n",
       "1  [{\"cast_id\": 4, \"character\": \"Captain Jack Spa...   \n",
       "2  [{\"cast_id\": 1, \"character\": \"James Bond\", \"cr...   \n",
       "3  [{\"cast_id\": 2, \"character\": \"Bruce Wayne / Ba...   \n",
       "\n",
       "                                                crew  \n",
       "0  [{\"credit_id\": \"52fe48009251416c750aca23\", \"de...  \n",
       "1  [{\"credit_id\": \"52fe4232c3a36847f800b579\", \"de...  \n",
       "2  [{\"credit_id\": \"54805967c3a36829b5002c41\", \"de...  \n",
       "3  [{\"credit_id\": \"52fe4781c3a36847f81398c3\", \"de...  "
      ]
     },
     "execution_count": 14,
     "metadata": {},
     "output_type": "execute_result"
    }
   ],
   "source": [
    "movie.head(4)"
   ]
  },
  {
   "cell_type": "code",
   "execution_count": 15,
   "metadata": {},
   "outputs": [
    {
     "data": {
      "text/plain": [
       "movie_id    0\n",
       "title       0\n",
       "overview    3\n",
       "genres      0\n",
       "keywords    0\n",
       "cast        0\n",
       "crew        0\n",
       "dtype: int64"
      ]
     },
     "execution_count": 15,
     "metadata": {},
     "output_type": "execute_result"
    }
   ],
   "source": [
    "movie.isnull().sum()"
   ]
  },
  {
   "cell_type": "code",
   "execution_count": 16,
   "metadata": {},
   "outputs": [],
   "source": [
    "movie.dropna(inplace=True)"
   ]
  },
  {
   "cell_type": "code",
   "execution_count": 17,
   "metadata": {},
   "outputs": [
    {
     "data": {
      "text/plain": [
       "movie_id    0\n",
       "title       0\n",
       "overview    0\n",
       "genres      0\n",
       "keywords    0\n",
       "cast        0\n",
       "crew        0\n",
       "dtype: int64"
      ]
     },
     "execution_count": 17,
     "metadata": {},
     "output_type": "execute_result"
    }
   ],
   "source": [
    "movie.isnull().sum()"
   ]
  },
  {
   "cell_type": "code",
   "execution_count": 18,
   "metadata": {},
   "outputs": [
    {
     "data": {
      "text/plain": [
       "0"
      ]
     },
     "execution_count": 18,
     "metadata": {},
     "output_type": "execute_result"
    }
   ],
   "source": [
    "movie.duplicated().sum()"
   ]
  },
  {
   "cell_type": "code",
   "execution_count": 19,
   "metadata": {},
   "outputs": [
    {
     "data": {
      "text/plain": [
       "'[{\"id\": 28, \"name\": \"Action\"}, {\"id\": 12, \"name\": \"Adventure\"}, {\"id\": 14, \"name\": \"Fantasy\"}, {\"id\": 878, \"name\": \"Science Fiction\"}]'"
      ]
     },
     "execution_count": 19,
     "metadata": {},
     "output_type": "execute_result"
    }
   ],
   "source": [
    "movie.iloc[0].genres"
   ]
  },
  {
   "cell_type": "code",
   "execution_count": 20,
   "metadata": {},
   "outputs": [],
   "source": [
    "import ast "
   ]
  },
  {
   "cell_type": "code",
   "execution_count": 21,
   "metadata": {},
   "outputs": [],
   "source": [
    "def convert(obj):\n",
    "    L=[]\n",
    "    for i in ast.literal_eval(obj):\n",
    "        L.append(i['name'])\n",
    "    return L    "
   ]
  },
  {
   "cell_type": "code",
   "execution_count": 22,
   "metadata": {},
   "outputs": [
    {
     "data": {
      "text/plain": [
       "'[{\"id\": 28, \"name\": \"Action\"}, {\"id\": 12, \"name\": \"Adventure\"}, {\"id\": 14, \"name\": \"Fantasy\"}, {\"id\": 878, \"name\": \"Science Fiction\"}]'"
      ]
     },
     "execution_count": 22,
     "metadata": {},
     "output_type": "execute_result"
    }
   ],
   "source": [
    "('[{\"id\": 28, \"name\": \"Action\"}, {\"id\": 12, \"name\": \"Adventure\"}, {\"id\": 14, \"name\": \"Fantasy\"}, {\"id\": 878, \"name\": \"Science Fiction\"}]')"
   ]
  },
  {
   "cell_type": "code",
   "execution_count": 23,
   "metadata": {},
   "outputs": [
    {
     "data": {
      "text/plain": [
       "<function ast.literal_eval(node_or_string)>"
      ]
     },
     "execution_count": 23,
     "metadata": {},
     "output_type": "execute_result"
    }
   ],
   "source": [
    "import ast \n",
    "ast.literal_eval"
   ]
  },
  {
   "cell_type": "code",
   "execution_count": 24,
   "metadata": {},
   "outputs": [],
   "source": [
    "movie['genres'] = movie['genres'].apply(convert)"
   ]
  },
  {
   "cell_type": "code",
   "execution_count": 25,
   "metadata": {},
   "outputs": [
    {
     "data": {
      "text/plain": [
       "0       [Action, Adventure, Fantasy, Science Fiction]\n",
       "1                        [Adventure, Fantasy, Action]\n",
       "2                          [Action, Adventure, Crime]\n",
       "3                    [Action, Crime, Drama, Thriller]\n",
       "4                [Action, Adventure, Science Fiction]\n",
       "                            ...                      \n",
       "4804                        [Action, Crime, Thriller]\n",
       "4805                                [Comedy, Romance]\n",
       "4806               [Comedy, Drama, Romance, TV Movie]\n",
       "4807                                               []\n",
       "4808                                    [Documentary]\n",
       "Name: genres, Length: 4806, dtype: object"
      ]
     },
     "execution_count": 25,
     "metadata": {},
     "output_type": "execute_result"
    }
   ],
   "source": [
    "movie['genres']"
   ]
  },
  {
   "cell_type": "code",
   "execution_count": 26,
   "metadata": {},
   "outputs": [
    {
     "data": {
      "text/html": [
       "<div>\n",
       "<style scoped>\n",
       "    .dataframe tbody tr th:only-of-type {\n",
       "        vertical-align: middle;\n",
       "    }\n",
       "\n",
       "    .dataframe tbody tr th {\n",
       "        vertical-align: top;\n",
       "    }\n",
       "\n",
       "    .dataframe thead th {\n",
       "        text-align: right;\n",
       "    }\n",
       "</style>\n",
       "<table border=\"1\" class=\"dataframe\">\n",
       "  <thead>\n",
       "    <tr style=\"text-align: right;\">\n",
       "      <th></th>\n",
       "      <th>movie_id</th>\n",
       "      <th>title</th>\n",
       "      <th>overview</th>\n",
       "      <th>genres</th>\n",
       "      <th>keywords</th>\n",
       "      <th>cast</th>\n",
       "      <th>crew</th>\n",
       "    </tr>\n",
       "  </thead>\n",
       "  <tbody>\n",
       "    <tr>\n",
       "      <th>0</th>\n",
       "      <td>19995</td>\n",
       "      <td>Avatar</td>\n",
       "      <td>In the 22nd century, a paraplegic Marine is di...</td>\n",
       "      <td>[Action, Adventure, Fantasy, Science Fiction]</td>\n",
       "      <td>[{\"id\": 1463, \"name\": \"culture clash\"}, {\"id\":...</td>\n",
       "      <td>[{\"cast_id\": 242, \"character\": \"Jake Sully\", \"...</td>\n",
       "      <td>[{\"credit_id\": \"52fe48009251416c750aca23\", \"de...</td>\n",
       "    </tr>\n",
       "    <tr>\n",
       "      <th>1</th>\n",
       "      <td>285</td>\n",
       "      <td>Pirates of the Caribbean: At World's End</td>\n",
       "      <td>Captain Barbossa, long believed to be dead, ha...</td>\n",
       "      <td>[Adventure, Fantasy, Action]</td>\n",
       "      <td>[{\"id\": 270, \"name\": \"ocean\"}, {\"id\": 726, \"na...</td>\n",
       "      <td>[{\"cast_id\": 4, \"character\": \"Captain Jack Spa...</td>\n",
       "      <td>[{\"credit_id\": \"52fe4232c3a36847f800b579\", \"de...</td>\n",
       "    </tr>\n",
       "    <tr>\n",
       "      <th>2</th>\n",
       "      <td>206647</td>\n",
       "      <td>Spectre</td>\n",
       "      <td>A cryptic message from Bond’s past sends him o...</td>\n",
       "      <td>[Action, Adventure, Crime]</td>\n",
       "      <td>[{\"id\": 470, \"name\": \"spy\"}, {\"id\": 818, \"name...</td>\n",
       "      <td>[{\"cast_id\": 1, \"character\": \"James Bond\", \"cr...</td>\n",
       "      <td>[{\"credit_id\": \"54805967c3a36829b5002c41\", \"de...</td>\n",
       "    </tr>\n",
       "    <tr>\n",
       "      <th>3</th>\n",
       "      <td>49026</td>\n",
       "      <td>The Dark Knight Rises</td>\n",
       "      <td>Following the death of District Attorney Harve...</td>\n",
       "      <td>[Action, Crime, Drama, Thriller]</td>\n",
       "      <td>[{\"id\": 849, \"name\": \"dc comics\"}, {\"id\": 853,...</td>\n",
       "      <td>[{\"cast_id\": 2, \"character\": \"Bruce Wayne / Ba...</td>\n",
       "      <td>[{\"credit_id\": \"52fe4781c3a36847f81398c3\", \"de...</td>\n",
       "    </tr>\n",
       "  </tbody>\n",
       "</table>\n",
       "</div>"
      ],
      "text/plain": [
       "   movie_id                                     title  \\\n",
       "0     19995                                    Avatar   \n",
       "1       285  Pirates of the Caribbean: At World's End   \n",
       "2    206647                                   Spectre   \n",
       "3     49026                     The Dark Knight Rises   \n",
       "\n",
       "                                            overview  \\\n",
       "0  In the 22nd century, a paraplegic Marine is di...   \n",
       "1  Captain Barbossa, long believed to be dead, ha...   \n",
       "2  A cryptic message from Bond’s past sends him o...   \n",
       "3  Following the death of District Attorney Harve...   \n",
       "\n",
       "                                          genres  \\\n",
       "0  [Action, Adventure, Fantasy, Science Fiction]   \n",
       "1                   [Adventure, Fantasy, Action]   \n",
       "2                     [Action, Adventure, Crime]   \n",
       "3               [Action, Crime, Drama, Thriller]   \n",
       "\n",
       "                                            keywords  \\\n",
       "0  [{\"id\": 1463, \"name\": \"culture clash\"}, {\"id\":...   \n",
       "1  [{\"id\": 270, \"name\": \"ocean\"}, {\"id\": 726, \"na...   \n",
       "2  [{\"id\": 470, \"name\": \"spy\"}, {\"id\": 818, \"name...   \n",
       "3  [{\"id\": 849, \"name\": \"dc comics\"}, {\"id\": 853,...   \n",
       "\n",
       "                                                cast  \\\n",
       "0  [{\"cast_id\": 242, \"character\": \"Jake Sully\", \"...   \n",
       "1  [{\"cast_id\": 4, \"character\": \"Captain Jack Spa...   \n",
       "2  [{\"cast_id\": 1, \"character\": \"James Bond\", \"cr...   \n",
       "3  [{\"cast_id\": 2, \"character\": \"Bruce Wayne / Ba...   \n",
       "\n",
       "                                                crew  \n",
       "0  [{\"credit_id\": \"52fe48009251416c750aca23\", \"de...  \n",
       "1  [{\"credit_id\": \"52fe4232c3a36847f800b579\", \"de...  \n",
       "2  [{\"credit_id\": \"54805967c3a36829b5002c41\", \"de...  \n",
       "3  [{\"credit_id\": \"52fe4781c3a36847f81398c3\", \"de...  "
      ]
     },
     "execution_count": 26,
     "metadata": {},
     "output_type": "execute_result"
    }
   ],
   "source": [
    "movie.head(4)"
   ]
  },
  {
   "cell_type": "code",
   "execution_count": 27,
   "metadata": {},
   "outputs": [],
   "source": [
    "movie['keywords'] = movie['keywords'].apply(convert)"
   ]
  },
  {
   "cell_type": "code",
   "execution_count": 28,
   "metadata": {},
   "outputs": [
    {
     "data": {
      "text/plain": [
       "0       [culture clash, future, space war, space colon...\n",
       "1       [ocean, drug abuse, exotic island, east india ...\n",
       "2       [spy, based on novel, secret agent, sequel, mi...\n",
       "3       [dc comics, crime fighter, terrorist, secret i...\n",
       "4       [based on novel, mars, medallion, space travel...\n",
       "                              ...                        \n",
       "4804    [united states–mexico barrier, legs, arms, pap...\n",
       "4805                                                   []\n",
       "4806    [date, love at first sight, narration, investi...\n",
       "4807                                                   []\n",
       "4808            [obsession, camcorder, crush, dream girl]\n",
       "Name: keywords, Length: 4806, dtype: object"
      ]
     },
     "execution_count": 28,
     "metadata": {},
     "output_type": "execute_result"
    }
   ],
   "source": [
    "movie['keywords']"
   ]
  },
  {
   "cell_type": "code",
   "execution_count": 29,
   "metadata": {},
   "outputs": [
    {
     "data": {
      "text/html": [
       "<div>\n",
       "<style scoped>\n",
       "    .dataframe tbody tr th:only-of-type {\n",
       "        vertical-align: middle;\n",
       "    }\n",
       "\n",
       "    .dataframe tbody tr th {\n",
       "        vertical-align: top;\n",
       "    }\n",
       "\n",
       "    .dataframe thead th {\n",
       "        text-align: right;\n",
       "    }\n",
       "</style>\n",
       "<table border=\"1\" class=\"dataframe\">\n",
       "  <thead>\n",
       "    <tr style=\"text-align: right;\">\n",
       "      <th></th>\n",
       "      <th>movie_id</th>\n",
       "      <th>title</th>\n",
       "      <th>overview</th>\n",
       "      <th>genres</th>\n",
       "      <th>keywords</th>\n",
       "      <th>cast</th>\n",
       "      <th>crew</th>\n",
       "    </tr>\n",
       "  </thead>\n",
       "  <tbody>\n",
       "    <tr>\n",
       "      <th>0</th>\n",
       "      <td>19995</td>\n",
       "      <td>Avatar</td>\n",
       "      <td>In the 22nd century, a paraplegic Marine is di...</td>\n",
       "      <td>[Action, Adventure, Fantasy, Science Fiction]</td>\n",
       "      <td>[culture clash, future, space war, space colon...</td>\n",
       "      <td>[{\"cast_id\": 242, \"character\": \"Jake Sully\", \"...</td>\n",
       "      <td>[{\"credit_id\": \"52fe48009251416c750aca23\", \"de...</td>\n",
       "    </tr>\n",
       "    <tr>\n",
       "      <th>1</th>\n",
       "      <td>285</td>\n",
       "      <td>Pirates of the Caribbean: At World's End</td>\n",
       "      <td>Captain Barbossa, long believed to be dead, ha...</td>\n",
       "      <td>[Adventure, Fantasy, Action]</td>\n",
       "      <td>[ocean, drug abuse, exotic island, east india ...</td>\n",
       "      <td>[{\"cast_id\": 4, \"character\": \"Captain Jack Spa...</td>\n",
       "      <td>[{\"credit_id\": \"52fe4232c3a36847f800b579\", \"de...</td>\n",
       "    </tr>\n",
       "    <tr>\n",
       "      <th>2</th>\n",
       "      <td>206647</td>\n",
       "      <td>Spectre</td>\n",
       "      <td>A cryptic message from Bond’s past sends him o...</td>\n",
       "      <td>[Action, Adventure, Crime]</td>\n",
       "      <td>[spy, based on novel, secret agent, sequel, mi...</td>\n",
       "      <td>[{\"cast_id\": 1, \"character\": \"James Bond\", \"cr...</td>\n",
       "      <td>[{\"credit_id\": \"54805967c3a36829b5002c41\", \"de...</td>\n",
       "    </tr>\n",
       "    <tr>\n",
       "      <th>3</th>\n",
       "      <td>49026</td>\n",
       "      <td>The Dark Knight Rises</td>\n",
       "      <td>Following the death of District Attorney Harve...</td>\n",
       "      <td>[Action, Crime, Drama, Thriller]</td>\n",
       "      <td>[dc comics, crime fighter, terrorist, secret i...</td>\n",
       "      <td>[{\"cast_id\": 2, \"character\": \"Bruce Wayne / Ba...</td>\n",
       "      <td>[{\"credit_id\": \"52fe4781c3a36847f81398c3\", \"de...</td>\n",
       "    </tr>\n",
       "  </tbody>\n",
       "</table>\n",
       "</div>"
      ],
      "text/plain": [
       "   movie_id                                     title  \\\n",
       "0     19995                                    Avatar   \n",
       "1       285  Pirates of the Caribbean: At World's End   \n",
       "2    206647                                   Spectre   \n",
       "3     49026                     The Dark Knight Rises   \n",
       "\n",
       "                                            overview  \\\n",
       "0  In the 22nd century, a paraplegic Marine is di...   \n",
       "1  Captain Barbossa, long believed to be dead, ha...   \n",
       "2  A cryptic message from Bond’s past sends him o...   \n",
       "3  Following the death of District Attorney Harve...   \n",
       "\n",
       "                                          genres  \\\n",
       "0  [Action, Adventure, Fantasy, Science Fiction]   \n",
       "1                   [Adventure, Fantasy, Action]   \n",
       "2                     [Action, Adventure, Crime]   \n",
       "3               [Action, Crime, Drama, Thriller]   \n",
       "\n",
       "                                            keywords  \\\n",
       "0  [culture clash, future, space war, space colon...   \n",
       "1  [ocean, drug abuse, exotic island, east india ...   \n",
       "2  [spy, based on novel, secret agent, sequel, mi...   \n",
       "3  [dc comics, crime fighter, terrorist, secret i...   \n",
       "\n",
       "                                                cast  \\\n",
       "0  [{\"cast_id\": 242, \"character\": \"Jake Sully\", \"...   \n",
       "1  [{\"cast_id\": 4, \"character\": \"Captain Jack Spa...   \n",
       "2  [{\"cast_id\": 1, \"character\": \"James Bond\", \"cr...   \n",
       "3  [{\"cast_id\": 2, \"character\": \"Bruce Wayne / Ba...   \n",
       "\n",
       "                                                crew  \n",
       "0  [{\"credit_id\": \"52fe48009251416c750aca23\", \"de...  \n",
       "1  [{\"credit_id\": \"52fe4232c3a36847f800b579\", \"de...  \n",
       "2  [{\"credit_id\": \"54805967c3a36829b5002c41\", \"de...  \n",
       "3  [{\"credit_id\": \"52fe4781c3a36847f81398c3\", \"de...  "
      ]
     },
     "execution_count": 29,
     "metadata": {},
     "output_type": "execute_result"
    }
   ],
   "source": [
    "movie.head(4)"
   ]
  },
  {
   "cell_type": "code",
   "execution_count": 30,
   "metadata": {},
   "outputs": [],
   "source": [
    "# for cast we have to create another for loop because we will take top 3 main character name and ignore others.\n"
   ]
  },
  {
   "cell_type": "code",
   "execution_count": 31,
   "metadata": {},
   "outputs": [],
   "source": [
    "def convert3(obj):\n",
    "    L = []\n",
    "    counter = 0 \n",
    "    for i in ast.literal_eval(obj) : # convert string to charactor\n",
    "        if counter !=3:\n",
    "            L.append(i['name'])\n",
    "            counter = counter+1\n",
    "        else:\n",
    "            break\n",
    "    return L    \n",
    "\n"
   ]
  },
  {
   "cell_type": "code",
   "execution_count": 32,
   "metadata": {},
   "outputs": [],
   "source": [
    "movie['cast'] = movie['cast'].apply(convert3)"
   ]
  },
  {
   "cell_type": "code",
   "execution_count": 33,
   "metadata": {},
   "outputs": [
    {
     "data": {
      "text/plain": [
       "0        [Sam Worthington, Zoe Saldana, Sigourney Weaver]\n",
       "1           [Johnny Depp, Orlando Bloom, Keira Knightley]\n",
       "2            [Daniel Craig, Christoph Waltz, Léa Seydoux]\n",
       "3            [Christian Bale, Michael Caine, Gary Oldman]\n",
       "4          [Taylor Kitsch, Lynn Collins, Samantha Morton]\n",
       "                              ...                        \n",
       "4804    [Carlos Gallardo, Jaime de Hoyos, Peter Marqua...\n",
       "4805         [Edward Burns, Kerry Bishé, Marsha Dietlein]\n",
       "4806           [Eric Mabius, Kristin Booth, Crystal Lowe]\n",
       "4807            [Daniel Henney, Eliza Coupe, Bill Paxton]\n",
       "4808    [Drew Barrymore, Brian Herzlinger, Corey Feldman]\n",
       "Name: cast, Length: 4806, dtype: object"
      ]
     },
     "execution_count": 33,
     "metadata": {},
     "output_type": "execute_result"
    }
   ],
   "source": [
    "movie['cast']"
   ]
  },
  {
   "cell_type": "code",
   "execution_count": 34,
   "metadata": {},
   "outputs": [
    {
     "data": {
      "text/html": [
       "<div>\n",
       "<style scoped>\n",
       "    .dataframe tbody tr th:only-of-type {\n",
       "        vertical-align: middle;\n",
       "    }\n",
       "\n",
       "    .dataframe tbody tr th {\n",
       "        vertical-align: top;\n",
       "    }\n",
       "\n",
       "    .dataframe thead th {\n",
       "        text-align: right;\n",
       "    }\n",
       "</style>\n",
       "<table border=\"1\" class=\"dataframe\">\n",
       "  <thead>\n",
       "    <tr style=\"text-align: right;\">\n",
       "      <th></th>\n",
       "      <th>movie_id</th>\n",
       "      <th>title</th>\n",
       "      <th>overview</th>\n",
       "      <th>genres</th>\n",
       "      <th>keywords</th>\n",
       "      <th>cast</th>\n",
       "      <th>crew</th>\n",
       "    </tr>\n",
       "  </thead>\n",
       "  <tbody>\n",
       "    <tr>\n",
       "      <th>0</th>\n",
       "      <td>19995</td>\n",
       "      <td>Avatar</td>\n",
       "      <td>In the 22nd century, a paraplegic Marine is di...</td>\n",
       "      <td>[Action, Adventure, Fantasy, Science Fiction]</td>\n",
       "      <td>[culture clash, future, space war, space colon...</td>\n",
       "      <td>[Sam Worthington, Zoe Saldana, Sigourney Weaver]</td>\n",
       "      <td>[{\"credit_id\": \"52fe48009251416c750aca23\", \"de...</td>\n",
       "    </tr>\n",
       "    <tr>\n",
       "      <th>1</th>\n",
       "      <td>285</td>\n",
       "      <td>Pirates of the Caribbean: At World's End</td>\n",
       "      <td>Captain Barbossa, long believed to be dead, ha...</td>\n",
       "      <td>[Adventure, Fantasy, Action]</td>\n",
       "      <td>[ocean, drug abuse, exotic island, east india ...</td>\n",
       "      <td>[Johnny Depp, Orlando Bloom, Keira Knightley]</td>\n",
       "      <td>[{\"credit_id\": \"52fe4232c3a36847f800b579\", \"de...</td>\n",
       "    </tr>\n",
       "    <tr>\n",
       "      <th>2</th>\n",
       "      <td>206647</td>\n",
       "      <td>Spectre</td>\n",
       "      <td>A cryptic message from Bond’s past sends him o...</td>\n",
       "      <td>[Action, Adventure, Crime]</td>\n",
       "      <td>[spy, based on novel, secret agent, sequel, mi...</td>\n",
       "      <td>[Daniel Craig, Christoph Waltz, Léa Seydoux]</td>\n",
       "      <td>[{\"credit_id\": \"54805967c3a36829b5002c41\", \"de...</td>\n",
       "    </tr>\n",
       "    <tr>\n",
       "      <th>3</th>\n",
       "      <td>49026</td>\n",
       "      <td>The Dark Knight Rises</td>\n",
       "      <td>Following the death of District Attorney Harve...</td>\n",
       "      <td>[Action, Crime, Drama, Thriller]</td>\n",
       "      <td>[dc comics, crime fighter, terrorist, secret i...</td>\n",
       "      <td>[Christian Bale, Michael Caine, Gary Oldman]</td>\n",
       "      <td>[{\"credit_id\": \"52fe4781c3a36847f81398c3\", \"de...</td>\n",
       "    </tr>\n",
       "  </tbody>\n",
       "</table>\n",
       "</div>"
      ],
      "text/plain": [
       "   movie_id                                     title  \\\n",
       "0     19995                                    Avatar   \n",
       "1       285  Pirates of the Caribbean: At World's End   \n",
       "2    206647                                   Spectre   \n",
       "3     49026                     The Dark Knight Rises   \n",
       "\n",
       "                                            overview  \\\n",
       "0  In the 22nd century, a paraplegic Marine is di...   \n",
       "1  Captain Barbossa, long believed to be dead, ha...   \n",
       "2  A cryptic message from Bond’s past sends him o...   \n",
       "3  Following the death of District Attorney Harve...   \n",
       "\n",
       "                                          genres  \\\n",
       "0  [Action, Adventure, Fantasy, Science Fiction]   \n",
       "1                   [Adventure, Fantasy, Action]   \n",
       "2                     [Action, Adventure, Crime]   \n",
       "3               [Action, Crime, Drama, Thriller]   \n",
       "\n",
       "                                            keywords  \\\n",
       "0  [culture clash, future, space war, space colon...   \n",
       "1  [ocean, drug abuse, exotic island, east india ...   \n",
       "2  [spy, based on novel, secret agent, sequel, mi...   \n",
       "3  [dc comics, crime fighter, terrorist, secret i...   \n",
       "\n",
       "                                               cast  \\\n",
       "0  [Sam Worthington, Zoe Saldana, Sigourney Weaver]   \n",
       "1     [Johnny Depp, Orlando Bloom, Keira Knightley]   \n",
       "2      [Daniel Craig, Christoph Waltz, Léa Seydoux]   \n",
       "3      [Christian Bale, Michael Caine, Gary Oldman]   \n",
       "\n",
       "                                                crew  \n",
       "0  [{\"credit_id\": \"52fe48009251416c750aca23\", \"de...  \n",
       "1  [{\"credit_id\": \"52fe4232c3a36847f800b579\", \"de...  \n",
       "2  [{\"credit_id\": \"54805967c3a36829b5002c41\", \"de...  \n",
       "3  [{\"credit_id\": \"52fe4781c3a36847f81398c3\", \"de...  "
      ]
     },
     "execution_count": 34,
     "metadata": {},
     "output_type": "execute_result"
    }
   ],
   "source": [
    "movie.head(4)"
   ]
  },
  {
   "cell_type": "code",
   "execution_count": 35,
   "metadata": {},
   "outputs": [],
   "source": [
    "def fetch_director(obj):\n",
    "    L = []\n",
    "    for i in ast.literal_eval(obj):\n",
    "        if i['job'] == 'Director':\n",
    "            L.append(i['name'])\n",
    "            break\n",
    "    return L     \n",
    "            \n",
    "\n",
    "        "
   ]
  },
  {
   "cell_type": "code",
   "execution_count": 36,
   "metadata": {},
   "outputs": [],
   "source": [
    "movie['crew'] = movie['crew'].apply(fetch_director)"
   ]
  },
  {
   "cell_type": "code",
   "execution_count": 37,
   "metadata": {},
   "outputs": [
    {
     "data": {
      "text/html": [
       "<div>\n",
       "<style scoped>\n",
       "    .dataframe tbody tr th:only-of-type {\n",
       "        vertical-align: middle;\n",
       "    }\n",
       "\n",
       "    .dataframe tbody tr th {\n",
       "        vertical-align: top;\n",
       "    }\n",
       "\n",
       "    .dataframe thead th {\n",
       "        text-align: right;\n",
       "    }\n",
       "</style>\n",
       "<table border=\"1\" class=\"dataframe\">\n",
       "  <thead>\n",
       "    <tr style=\"text-align: right;\">\n",
       "      <th></th>\n",
       "      <th>movie_id</th>\n",
       "      <th>title</th>\n",
       "      <th>overview</th>\n",
       "      <th>genres</th>\n",
       "      <th>keywords</th>\n",
       "      <th>cast</th>\n",
       "      <th>crew</th>\n",
       "    </tr>\n",
       "  </thead>\n",
       "  <tbody>\n",
       "    <tr>\n",
       "      <th>0</th>\n",
       "      <td>19995</td>\n",
       "      <td>Avatar</td>\n",
       "      <td>In the 22nd century, a paraplegic Marine is di...</td>\n",
       "      <td>[Action, Adventure, Fantasy, Science Fiction]</td>\n",
       "      <td>[culture clash, future, space war, space colon...</td>\n",
       "      <td>[Sam Worthington, Zoe Saldana, Sigourney Weaver]</td>\n",
       "      <td>[James Cameron]</td>\n",
       "    </tr>\n",
       "    <tr>\n",
       "      <th>1</th>\n",
       "      <td>285</td>\n",
       "      <td>Pirates of the Caribbean: At World's End</td>\n",
       "      <td>Captain Barbossa, long believed to be dead, ha...</td>\n",
       "      <td>[Adventure, Fantasy, Action]</td>\n",
       "      <td>[ocean, drug abuse, exotic island, east india ...</td>\n",
       "      <td>[Johnny Depp, Orlando Bloom, Keira Knightley]</td>\n",
       "      <td>[Gore Verbinski]</td>\n",
       "    </tr>\n",
       "    <tr>\n",
       "      <th>2</th>\n",
       "      <td>206647</td>\n",
       "      <td>Spectre</td>\n",
       "      <td>A cryptic message from Bond’s past sends him o...</td>\n",
       "      <td>[Action, Adventure, Crime]</td>\n",
       "      <td>[spy, based on novel, secret agent, sequel, mi...</td>\n",
       "      <td>[Daniel Craig, Christoph Waltz, Léa Seydoux]</td>\n",
       "      <td>[Sam Mendes]</td>\n",
       "    </tr>\n",
       "    <tr>\n",
       "      <th>3</th>\n",
       "      <td>49026</td>\n",
       "      <td>The Dark Knight Rises</td>\n",
       "      <td>Following the death of District Attorney Harve...</td>\n",
       "      <td>[Action, Crime, Drama, Thriller]</td>\n",
       "      <td>[dc comics, crime fighter, terrorist, secret i...</td>\n",
       "      <td>[Christian Bale, Michael Caine, Gary Oldman]</td>\n",
       "      <td>[Christopher Nolan]</td>\n",
       "    </tr>\n",
       "  </tbody>\n",
       "</table>\n",
       "</div>"
      ],
      "text/plain": [
       "   movie_id                                     title  \\\n",
       "0     19995                                    Avatar   \n",
       "1       285  Pirates of the Caribbean: At World's End   \n",
       "2    206647                                   Spectre   \n",
       "3     49026                     The Dark Knight Rises   \n",
       "\n",
       "                                            overview  \\\n",
       "0  In the 22nd century, a paraplegic Marine is di...   \n",
       "1  Captain Barbossa, long believed to be dead, ha...   \n",
       "2  A cryptic message from Bond’s past sends him o...   \n",
       "3  Following the death of District Attorney Harve...   \n",
       "\n",
       "                                          genres  \\\n",
       "0  [Action, Adventure, Fantasy, Science Fiction]   \n",
       "1                   [Adventure, Fantasy, Action]   \n",
       "2                     [Action, Adventure, Crime]   \n",
       "3               [Action, Crime, Drama, Thriller]   \n",
       "\n",
       "                                            keywords  \\\n",
       "0  [culture clash, future, space war, space colon...   \n",
       "1  [ocean, drug abuse, exotic island, east india ...   \n",
       "2  [spy, based on novel, secret agent, sequel, mi...   \n",
       "3  [dc comics, crime fighter, terrorist, secret i...   \n",
       "\n",
       "                                               cast                 crew  \n",
       "0  [Sam Worthington, Zoe Saldana, Sigourney Weaver]      [James Cameron]  \n",
       "1     [Johnny Depp, Orlando Bloom, Keira Knightley]     [Gore Verbinski]  \n",
       "2      [Daniel Craig, Christoph Waltz, Léa Seydoux]         [Sam Mendes]  \n",
       "3      [Christian Bale, Michael Caine, Gary Oldman]  [Christopher Nolan]  "
      ]
     },
     "execution_count": 37,
     "metadata": {},
     "output_type": "execute_result"
    }
   ],
   "source": [
    "movie.head(4)"
   ]
  },
  {
   "cell_type": "code",
   "execution_count": 38,
   "metadata": {},
   "outputs": [],
   "source": [
    "#split the paragraph into string\n",
    "movie['overview'] = movie['overview'].apply(lambda x:x.split())"
   ]
  },
  {
   "cell_type": "code",
   "execution_count": 39,
   "metadata": {},
   "outputs": [
    {
     "data": {
      "text/plain": [
       "0       [In, the, 22nd, century,, a, paraplegic, Marin...\n",
       "1       [Captain, Barbossa,, long, believed, to, be, d...\n",
       "2       [A, cryptic, message, from, Bond’s, past, send...\n",
       "3       [Following, the, death, of, District, Attorney...\n",
       "4       [John, Carter, is, a, war-weary,, former, mili...\n",
       "                              ...                        \n",
       "4804    [El, Mariachi, just, wants, to, play, his, gui...\n",
       "4805    [A, newlywed, couple's, honeymoon, is, upended...\n",
       "4806    [\"Signed,, Sealed,, Delivered\", introduces, a,...\n",
       "4807    [When, ambitious, New, York, attorney, Sam, is...\n",
       "4808    [Ever, since, the, second, grade, when, he, fi...\n",
       "Name: overview, Length: 4806, dtype: object"
      ]
     },
     "execution_count": 39,
     "metadata": {},
     "output_type": "execute_result"
    }
   ],
   "source": [
    "movie['overview']"
   ]
  },
  {
   "cell_type": "code",
   "execution_count": 40,
   "metadata": {},
   "outputs": [
    {
     "data": {
      "text/html": [
       "<div>\n",
       "<style scoped>\n",
       "    .dataframe tbody tr th:only-of-type {\n",
       "        vertical-align: middle;\n",
       "    }\n",
       "\n",
       "    .dataframe tbody tr th {\n",
       "        vertical-align: top;\n",
       "    }\n",
       "\n",
       "    .dataframe thead th {\n",
       "        text-align: right;\n",
       "    }\n",
       "</style>\n",
       "<table border=\"1\" class=\"dataframe\">\n",
       "  <thead>\n",
       "    <tr style=\"text-align: right;\">\n",
       "      <th></th>\n",
       "      <th>movie_id</th>\n",
       "      <th>title</th>\n",
       "      <th>overview</th>\n",
       "      <th>genres</th>\n",
       "      <th>keywords</th>\n",
       "      <th>cast</th>\n",
       "      <th>crew</th>\n",
       "    </tr>\n",
       "  </thead>\n",
       "  <tbody>\n",
       "    <tr>\n",
       "      <th>0</th>\n",
       "      <td>19995</td>\n",
       "      <td>Avatar</td>\n",
       "      <td>[In, the, 22nd, century,, a, paraplegic, Marin...</td>\n",
       "      <td>[Action, Adventure, Fantasy, Science Fiction]</td>\n",
       "      <td>[culture clash, future, space war, space colon...</td>\n",
       "      <td>[Sam Worthington, Zoe Saldana, Sigourney Weaver]</td>\n",
       "      <td>[James Cameron]</td>\n",
       "    </tr>\n",
       "    <tr>\n",
       "      <th>1</th>\n",
       "      <td>285</td>\n",
       "      <td>Pirates of the Caribbean: At World's End</td>\n",
       "      <td>[Captain, Barbossa,, long, believed, to, be, d...</td>\n",
       "      <td>[Adventure, Fantasy, Action]</td>\n",
       "      <td>[ocean, drug abuse, exotic island, east india ...</td>\n",
       "      <td>[Johnny Depp, Orlando Bloom, Keira Knightley]</td>\n",
       "      <td>[Gore Verbinski]</td>\n",
       "    </tr>\n",
       "    <tr>\n",
       "      <th>2</th>\n",
       "      <td>206647</td>\n",
       "      <td>Spectre</td>\n",
       "      <td>[A, cryptic, message, from, Bond’s, past, send...</td>\n",
       "      <td>[Action, Adventure, Crime]</td>\n",
       "      <td>[spy, based on novel, secret agent, sequel, mi...</td>\n",
       "      <td>[Daniel Craig, Christoph Waltz, Léa Seydoux]</td>\n",
       "      <td>[Sam Mendes]</td>\n",
       "    </tr>\n",
       "    <tr>\n",
       "      <th>3</th>\n",
       "      <td>49026</td>\n",
       "      <td>The Dark Knight Rises</td>\n",
       "      <td>[Following, the, death, of, District, Attorney...</td>\n",
       "      <td>[Action, Crime, Drama, Thriller]</td>\n",
       "      <td>[dc comics, crime fighter, terrorist, secret i...</td>\n",
       "      <td>[Christian Bale, Michael Caine, Gary Oldman]</td>\n",
       "      <td>[Christopher Nolan]</td>\n",
       "    </tr>\n",
       "  </tbody>\n",
       "</table>\n",
       "</div>"
      ],
      "text/plain": [
       "   movie_id                                     title  \\\n",
       "0     19995                                    Avatar   \n",
       "1       285  Pirates of the Caribbean: At World's End   \n",
       "2    206647                                   Spectre   \n",
       "3     49026                     The Dark Knight Rises   \n",
       "\n",
       "                                            overview  \\\n",
       "0  [In, the, 22nd, century,, a, paraplegic, Marin...   \n",
       "1  [Captain, Barbossa,, long, believed, to, be, d...   \n",
       "2  [A, cryptic, message, from, Bond’s, past, send...   \n",
       "3  [Following, the, death, of, District, Attorney...   \n",
       "\n",
       "                                          genres  \\\n",
       "0  [Action, Adventure, Fantasy, Science Fiction]   \n",
       "1                   [Adventure, Fantasy, Action]   \n",
       "2                     [Action, Adventure, Crime]   \n",
       "3               [Action, Crime, Drama, Thriller]   \n",
       "\n",
       "                                            keywords  \\\n",
       "0  [culture clash, future, space war, space colon...   \n",
       "1  [ocean, drug abuse, exotic island, east india ...   \n",
       "2  [spy, based on novel, secret agent, sequel, mi...   \n",
       "3  [dc comics, crime fighter, terrorist, secret i...   \n",
       "\n",
       "                                               cast                 crew  \n",
       "0  [Sam Worthington, Zoe Saldana, Sigourney Weaver]      [James Cameron]  \n",
       "1     [Johnny Depp, Orlando Bloom, Keira Knightley]     [Gore Verbinski]  \n",
       "2      [Daniel Craig, Christoph Waltz, Léa Seydoux]         [Sam Mendes]  \n",
       "3      [Christian Bale, Michael Caine, Gary Oldman]  [Christopher Nolan]  "
      ]
     },
     "execution_count": 40,
     "metadata": {},
     "output_type": "execute_result"
    }
   ],
   "source": [
    "movie.head(4)"
   ]
  },
  {
   "cell_type": "code",
   "execution_count": 41,
   "metadata": {},
   "outputs": [],
   "source": [
    "# remove the spaces from the string \n",
    "movie['genres']=movie['genres'].apply(lambda x:[i.replace(\" \",\"\") for i in x])"
   ]
  },
  {
   "cell_type": "code",
   "execution_count": 42,
   "metadata": {},
   "outputs": [
    {
     "data": {
      "text/plain": [
       "0       [Action, Adventure, Fantasy, ScienceFiction]\n",
       "1                       [Adventure, Fantasy, Action]\n",
       "2                         [Action, Adventure, Crime]\n",
       "3                   [Action, Crime, Drama, Thriller]\n",
       "4                [Action, Adventure, ScienceFiction]\n",
       "                            ...                     \n",
       "4804                       [Action, Crime, Thriller]\n",
       "4805                               [Comedy, Romance]\n",
       "4806               [Comedy, Drama, Romance, TVMovie]\n",
       "4807                                              []\n",
       "4808                                   [Documentary]\n",
       "Name: genres, Length: 4806, dtype: object"
      ]
     },
     "execution_count": 42,
     "metadata": {},
     "output_type": "execute_result"
    }
   ],
   "source": [
    "movie['genres']"
   ]
  },
  {
   "cell_type": "code",
   "execution_count": 43,
   "metadata": {},
   "outputs": [],
   "source": [
    "movie['keywords'] = movie['keywords'].apply(lambda x:[i.replace(\" \",\"\") for i in x])\n",
    "movie['cast'] = movie['cast'].apply(lambda x:[i.replace(\" \",\"\") for i in x])\n",
    "movie['crew'] = movie['crew'].apply(lambda x:[i.replace(\" \",\"\") for i in x])"
   ]
  },
  {
   "cell_type": "code",
   "execution_count": 44,
   "metadata": {},
   "outputs": [
    {
     "data": {
      "text/html": [
       "<div>\n",
       "<style scoped>\n",
       "    .dataframe tbody tr th:only-of-type {\n",
       "        vertical-align: middle;\n",
       "    }\n",
       "\n",
       "    .dataframe tbody tr th {\n",
       "        vertical-align: top;\n",
       "    }\n",
       "\n",
       "    .dataframe thead th {\n",
       "        text-align: right;\n",
       "    }\n",
       "</style>\n",
       "<table border=\"1\" class=\"dataframe\">\n",
       "  <thead>\n",
       "    <tr style=\"text-align: right;\">\n",
       "      <th></th>\n",
       "      <th>movie_id</th>\n",
       "      <th>title</th>\n",
       "      <th>overview</th>\n",
       "      <th>genres</th>\n",
       "      <th>keywords</th>\n",
       "      <th>cast</th>\n",
       "      <th>crew</th>\n",
       "    </tr>\n",
       "  </thead>\n",
       "  <tbody>\n",
       "    <tr>\n",
       "      <th>0</th>\n",
       "      <td>19995</td>\n",
       "      <td>Avatar</td>\n",
       "      <td>[In, the, 22nd, century,, a, paraplegic, Marin...</td>\n",
       "      <td>[Action, Adventure, Fantasy, ScienceFiction]</td>\n",
       "      <td>[cultureclash, future, spacewar, spacecolony, ...</td>\n",
       "      <td>[SamWorthington, ZoeSaldana, SigourneyWeaver]</td>\n",
       "      <td>[JamesCameron]</td>\n",
       "    </tr>\n",
       "    <tr>\n",
       "      <th>1</th>\n",
       "      <td>285</td>\n",
       "      <td>Pirates of the Caribbean: At World's End</td>\n",
       "      <td>[Captain, Barbossa,, long, believed, to, be, d...</td>\n",
       "      <td>[Adventure, Fantasy, Action]</td>\n",
       "      <td>[ocean, drugabuse, exoticisland, eastindiatrad...</td>\n",
       "      <td>[JohnnyDepp, OrlandoBloom, KeiraKnightley]</td>\n",
       "      <td>[GoreVerbinski]</td>\n",
       "    </tr>\n",
       "    <tr>\n",
       "      <th>2</th>\n",
       "      <td>206647</td>\n",
       "      <td>Spectre</td>\n",
       "      <td>[A, cryptic, message, from, Bond’s, past, send...</td>\n",
       "      <td>[Action, Adventure, Crime]</td>\n",
       "      <td>[spy, basedonnovel, secretagent, sequel, mi6, ...</td>\n",
       "      <td>[DanielCraig, ChristophWaltz, LéaSeydoux]</td>\n",
       "      <td>[SamMendes]</td>\n",
       "    </tr>\n",
       "    <tr>\n",
       "      <th>3</th>\n",
       "      <td>49026</td>\n",
       "      <td>The Dark Knight Rises</td>\n",
       "      <td>[Following, the, death, of, District, Attorney...</td>\n",
       "      <td>[Action, Crime, Drama, Thriller]</td>\n",
       "      <td>[dccomics, crimefighter, terrorist, secretiden...</td>\n",
       "      <td>[ChristianBale, MichaelCaine, GaryOldman]</td>\n",
       "      <td>[ChristopherNolan]</td>\n",
       "    </tr>\n",
       "  </tbody>\n",
       "</table>\n",
       "</div>"
      ],
      "text/plain": [
       "   movie_id                                     title  \\\n",
       "0     19995                                    Avatar   \n",
       "1       285  Pirates of the Caribbean: At World's End   \n",
       "2    206647                                   Spectre   \n",
       "3     49026                     The Dark Knight Rises   \n",
       "\n",
       "                                            overview  \\\n",
       "0  [In, the, 22nd, century,, a, paraplegic, Marin...   \n",
       "1  [Captain, Barbossa,, long, believed, to, be, d...   \n",
       "2  [A, cryptic, message, from, Bond’s, past, send...   \n",
       "3  [Following, the, death, of, District, Attorney...   \n",
       "\n",
       "                                         genres  \\\n",
       "0  [Action, Adventure, Fantasy, ScienceFiction]   \n",
       "1                  [Adventure, Fantasy, Action]   \n",
       "2                    [Action, Adventure, Crime]   \n",
       "3              [Action, Crime, Drama, Thriller]   \n",
       "\n",
       "                                            keywords  \\\n",
       "0  [cultureclash, future, spacewar, spacecolony, ...   \n",
       "1  [ocean, drugabuse, exoticisland, eastindiatrad...   \n",
       "2  [spy, basedonnovel, secretagent, sequel, mi6, ...   \n",
       "3  [dccomics, crimefighter, terrorist, secretiden...   \n",
       "\n",
       "                                            cast                crew  \n",
       "0  [SamWorthington, ZoeSaldana, SigourneyWeaver]      [JamesCameron]  \n",
       "1     [JohnnyDepp, OrlandoBloom, KeiraKnightley]     [GoreVerbinski]  \n",
       "2      [DanielCraig, ChristophWaltz, LéaSeydoux]         [SamMendes]  \n",
       "3      [ChristianBale, MichaelCaine, GaryOldman]  [ChristopherNolan]  "
      ]
     },
     "execution_count": 44,
     "metadata": {},
     "output_type": "execute_result"
    }
   ],
   "source": [
    "movie.head(4)"
   ]
  },
  {
   "cell_type": "code",
   "execution_count": 45,
   "metadata": {},
   "outputs": [],
   "source": [
    "movie['tags'] = movie['overview'] + movie['genres'] + movie['keywords'] + movie['cast'] + movie['crew']"
   ]
  },
  {
   "cell_type": "code",
   "execution_count": 46,
   "metadata": {},
   "outputs": [
    {
     "data": {
      "text/html": [
       "<div>\n",
       "<style scoped>\n",
       "    .dataframe tbody tr th:only-of-type {\n",
       "        vertical-align: middle;\n",
       "    }\n",
       "\n",
       "    .dataframe tbody tr th {\n",
       "        vertical-align: top;\n",
       "    }\n",
       "\n",
       "    .dataframe thead th {\n",
       "        text-align: right;\n",
       "    }\n",
       "</style>\n",
       "<table border=\"1\" class=\"dataframe\">\n",
       "  <thead>\n",
       "    <tr style=\"text-align: right;\">\n",
       "      <th></th>\n",
       "      <th>movie_id</th>\n",
       "      <th>title</th>\n",
       "      <th>overview</th>\n",
       "      <th>genres</th>\n",
       "      <th>keywords</th>\n",
       "      <th>cast</th>\n",
       "      <th>crew</th>\n",
       "      <th>tags</th>\n",
       "    </tr>\n",
       "  </thead>\n",
       "  <tbody>\n",
       "    <tr>\n",
       "      <th>0</th>\n",
       "      <td>19995</td>\n",
       "      <td>Avatar</td>\n",
       "      <td>[In, the, 22nd, century,, a, paraplegic, Marin...</td>\n",
       "      <td>[Action, Adventure, Fantasy, ScienceFiction]</td>\n",
       "      <td>[cultureclash, future, spacewar, spacecolony, ...</td>\n",
       "      <td>[SamWorthington, ZoeSaldana, SigourneyWeaver]</td>\n",
       "      <td>[JamesCameron]</td>\n",
       "      <td>[In, the, 22nd, century,, a, paraplegic, Marin...</td>\n",
       "    </tr>\n",
       "  </tbody>\n",
       "</table>\n",
       "</div>"
      ],
      "text/plain": [
       "   movie_id   title                                           overview  \\\n",
       "0     19995  Avatar  [In, the, 22nd, century,, a, paraplegic, Marin...   \n",
       "\n",
       "                                         genres  \\\n",
       "0  [Action, Adventure, Fantasy, ScienceFiction]   \n",
       "\n",
       "                                            keywords  \\\n",
       "0  [cultureclash, future, spacewar, spacecolony, ...   \n",
       "\n",
       "                                            cast            crew  \\\n",
       "0  [SamWorthington, ZoeSaldana, SigourneyWeaver]  [JamesCameron]   \n",
       "\n",
       "                                                tags  \n",
       "0  [In, the, 22nd, century,, a, paraplegic, Marin...  "
      ]
     },
     "execution_count": 46,
     "metadata": {},
     "output_type": "execute_result"
    }
   ],
   "source": [
    "movie.head(1)"
   ]
  },
  {
   "cell_type": "code",
   "execution_count": 47,
   "metadata": {},
   "outputs": [],
   "source": [
    "new_df = movie[['movie_id' , 'title' , 'tags']]"
   ]
  },
  {
   "cell_type": "code",
   "execution_count": 48,
   "metadata": {},
   "outputs": [
    {
     "data": {
      "text/html": [
       "<div>\n",
       "<style scoped>\n",
       "    .dataframe tbody tr th:only-of-type {\n",
       "        vertical-align: middle;\n",
       "    }\n",
       "\n",
       "    .dataframe tbody tr th {\n",
       "        vertical-align: top;\n",
       "    }\n",
       "\n",
       "    .dataframe thead th {\n",
       "        text-align: right;\n",
       "    }\n",
       "</style>\n",
       "<table border=\"1\" class=\"dataframe\">\n",
       "  <thead>\n",
       "    <tr style=\"text-align: right;\">\n",
       "      <th></th>\n",
       "      <th>movie_id</th>\n",
       "      <th>title</th>\n",
       "      <th>tags</th>\n",
       "    </tr>\n",
       "  </thead>\n",
       "  <tbody>\n",
       "    <tr>\n",
       "      <th>0</th>\n",
       "      <td>19995</td>\n",
       "      <td>Avatar</td>\n",
       "      <td>[In, the, 22nd, century,, a, paraplegic, Marin...</td>\n",
       "    </tr>\n",
       "    <tr>\n",
       "      <th>1</th>\n",
       "      <td>285</td>\n",
       "      <td>Pirates of the Caribbean: At World's End</td>\n",
       "      <td>[Captain, Barbossa,, long, believed, to, be, d...</td>\n",
       "    </tr>\n",
       "    <tr>\n",
       "      <th>2</th>\n",
       "      <td>206647</td>\n",
       "      <td>Spectre</td>\n",
       "      <td>[A, cryptic, message, from, Bond’s, past, send...</td>\n",
       "    </tr>\n",
       "    <tr>\n",
       "      <th>3</th>\n",
       "      <td>49026</td>\n",
       "      <td>The Dark Knight Rises</td>\n",
       "      <td>[Following, the, death, of, District, Attorney...</td>\n",
       "    </tr>\n",
       "    <tr>\n",
       "      <th>4</th>\n",
       "      <td>49529</td>\n",
       "      <td>John Carter</td>\n",
       "      <td>[John, Carter, is, a, war-weary,, former, mili...</td>\n",
       "    </tr>\n",
       "  </tbody>\n",
       "</table>\n",
       "</div>"
      ],
      "text/plain": [
       "   movie_id                                     title  \\\n",
       "0     19995                                    Avatar   \n",
       "1       285  Pirates of the Caribbean: At World's End   \n",
       "2    206647                                   Spectre   \n",
       "3     49026                     The Dark Knight Rises   \n",
       "4     49529                               John Carter   \n",
       "\n",
       "                                                tags  \n",
       "0  [In, the, 22nd, century,, a, paraplegic, Marin...  \n",
       "1  [Captain, Barbossa,, long, believed, to, be, d...  \n",
       "2  [A, cryptic, message, from, Bond’s, past, send...  \n",
       "3  [Following, the, death, of, District, Attorney...  \n",
       "4  [John, Carter, is, a, war-weary,, former, mili...  "
      ]
     },
     "execution_count": 48,
     "metadata": {},
     "output_type": "execute_result"
    }
   ],
   "source": [
    "new_df.head(5)"
   ]
  },
  {
   "cell_type": "code",
   "execution_count": 49,
   "metadata": {},
   "outputs": [
    {
     "name": "stderr",
     "output_type": "stream",
     "text": [
      "C:\\Users\\SAURAV RAJ\\AppData\\Local\\Temp\\ipykernel_9564\\3089450492.py:1: SettingWithCopyWarning: \n",
      "A value is trying to be set on a copy of a slice from a DataFrame.\n",
      "Try using .loc[row_indexer,col_indexer] = value instead\n",
      "\n",
      "See the caveats in the documentation: https://pandas.pydata.org/pandas-docs/stable/user_guide/indexing.html#returning-a-view-versus-a-copy\n",
      "  new_df['tags'] = new_df['tags'].apply(lambda x:\" \".join(x))\n"
     ]
    }
   ],
   "source": [
    "new_df['tags'] = new_df['tags'].apply(lambda x:\" \".join(x))"
   ]
  },
  {
   "cell_type": "code",
   "execution_count": 50,
   "metadata": {},
   "outputs": [
    {
     "data": {
      "text/plain": [
       "0       In the 22nd century, a paraplegic Marine is di...\n",
       "1       Captain Barbossa, long believed to be dead, ha...\n",
       "2       A cryptic message from Bond’s past sends him o...\n",
       "3       Following the death of District Attorney Harve...\n",
       "4       John Carter is a war-weary, former military ca...\n",
       "                              ...                        \n",
       "4804    El Mariachi just wants to play his guitar and ...\n",
       "4805    A newlywed couple's honeymoon is upended by th...\n",
       "4806    \"Signed, Sealed, Delivered\" introduces a dedic...\n",
       "4807    When ambitious New York attorney Sam is sent t...\n",
       "4808    Ever since the second grade when he first saw ...\n",
       "Name: tags, Length: 4806, dtype: object"
      ]
     },
     "execution_count": 50,
     "metadata": {},
     "output_type": "execute_result"
    }
   ],
   "source": [
    "new_df['tags']"
   ]
  },
  {
   "cell_type": "code",
   "execution_count": 51,
   "metadata": {},
   "outputs": [
    {
     "data": {
      "text/html": [
       "<div>\n",
       "<style scoped>\n",
       "    .dataframe tbody tr th:only-of-type {\n",
       "        vertical-align: middle;\n",
       "    }\n",
       "\n",
       "    .dataframe tbody tr th {\n",
       "        vertical-align: top;\n",
       "    }\n",
       "\n",
       "    .dataframe thead th {\n",
       "        text-align: right;\n",
       "    }\n",
       "</style>\n",
       "<table border=\"1\" class=\"dataframe\">\n",
       "  <thead>\n",
       "    <tr style=\"text-align: right;\">\n",
       "      <th></th>\n",
       "      <th>movie_id</th>\n",
       "      <th>title</th>\n",
       "      <th>tags</th>\n",
       "    </tr>\n",
       "  </thead>\n",
       "  <tbody>\n",
       "    <tr>\n",
       "      <th>0</th>\n",
       "      <td>19995</td>\n",
       "      <td>Avatar</td>\n",
       "      <td>In the 22nd century, a paraplegic Marine is di...</td>\n",
       "    </tr>\n",
       "    <tr>\n",
       "      <th>1</th>\n",
       "      <td>285</td>\n",
       "      <td>Pirates of the Caribbean: At World's End</td>\n",
       "      <td>Captain Barbossa, long believed to be dead, ha...</td>\n",
       "    </tr>\n",
       "    <tr>\n",
       "      <th>2</th>\n",
       "      <td>206647</td>\n",
       "      <td>Spectre</td>\n",
       "      <td>A cryptic message from Bond’s past sends him o...</td>\n",
       "    </tr>\n",
       "    <tr>\n",
       "      <th>3</th>\n",
       "      <td>49026</td>\n",
       "      <td>The Dark Knight Rises</td>\n",
       "      <td>Following the death of District Attorney Harve...</td>\n",
       "    </tr>\n",
       "    <tr>\n",
       "      <th>4</th>\n",
       "      <td>49529</td>\n",
       "      <td>John Carter</td>\n",
       "      <td>John Carter is a war-weary, former military ca...</td>\n",
       "    </tr>\n",
       "  </tbody>\n",
       "</table>\n",
       "</div>"
      ],
      "text/plain": [
       "   movie_id                                     title  \\\n",
       "0     19995                                    Avatar   \n",
       "1       285  Pirates of the Caribbean: At World's End   \n",
       "2    206647                                   Spectre   \n",
       "3     49026                     The Dark Knight Rises   \n",
       "4     49529                               John Carter   \n",
       "\n",
       "                                                tags  \n",
       "0  In the 22nd century, a paraplegic Marine is di...  \n",
       "1  Captain Barbossa, long believed to be dead, ha...  \n",
       "2  A cryptic message from Bond’s past sends him o...  \n",
       "3  Following the death of District Attorney Harve...  \n",
       "4  John Carter is a war-weary, former military ca...  "
      ]
     },
     "execution_count": 51,
     "metadata": {},
     "output_type": "execute_result"
    }
   ],
   "source": [
    "new_df.head()"
   ]
  },
  {
   "cell_type": "code",
   "execution_count": 52,
   "metadata": {},
   "outputs": [
    {
     "data": {
      "text/plain": [
       "'A cryptic message from Bond’s past sends him on a trail to uncover a sinister organization. While M battles political forces to keep the secret service alive, Bond peels back the layers of deceit to reveal the terrible truth behind SPECTRE. Action Adventure Crime spy basedonnovel secretagent sequel mi6 britishsecretservice unitedkingdom DanielCraig ChristophWaltz LéaSeydoux SamMendes'"
      ]
     },
     "execution_count": 52,
     "metadata": {},
     "output_type": "execute_result"
    }
   ],
   "source": [
    "new_df['tags'][2]"
   ]
  },
  {
   "cell_type": "code",
   "execution_count": 53,
   "metadata": {},
   "outputs": [
    {
     "name": "stderr",
     "output_type": "stream",
     "text": [
      "C:\\Users\\SAURAV RAJ\\AppData\\Local\\Temp\\ipykernel_9564\\3214958533.py:1: SettingWithCopyWarning: \n",
      "A value is trying to be set on a copy of a slice from a DataFrame.\n",
      "Try using .loc[row_indexer,col_indexer] = value instead\n",
      "\n",
      "See the caveats in the documentation: https://pandas.pydata.org/pandas-docs/stable/user_guide/indexing.html#returning-a-view-versus-a-copy\n",
      "  new_df['tags'] = new_df['tags'].apply(lambda x:x.lower())\n"
     ]
    }
   ],
   "source": [
    "new_df['tags'] = new_df['tags'].apply(lambda x:x.lower())"
   ]
  },
  {
   "cell_type": "code",
   "execution_count": 54,
   "metadata": {},
   "outputs": [
    {
     "data": {
      "text/plain": [
       "0       in the 22nd century, a paraplegic marine is di...\n",
       "1       captain barbossa, long believed to be dead, ha...\n",
       "2       a cryptic message from bond’s past sends him o...\n",
       "3       following the death of district attorney harve...\n",
       "4       john carter is a war-weary, former military ca...\n",
       "                              ...                        \n",
       "4804    el mariachi just wants to play his guitar and ...\n",
       "4805    a newlywed couple's honeymoon is upended by th...\n",
       "4806    \"signed, sealed, delivered\" introduces a dedic...\n",
       "4807    when ambitious new york attorney sam is sent t...\n",
       "4808    ever since the second grade when he first saw ...\n",
       "Name: tags, Length: 4806, dtype: object"
      ]
     },
     "execution_count": 54,
     "metadata": {},
     "output_type": "execute_result"
    }
   ],
   "source": [
    "new_df['tags']"
   ]
  },
  {
   "cell_type": "code",
   "execution_count": 55,
   "metadata": {},
   "outputs": [
    {
     "data": {
      "text/plain": [
       "'in the 22nd century, a paraplegic marine is dispatched to the moon pandora on a unique mission, but becomes torn between following orders and protecting an alien civilization. action adventure fantasy sciencefiction cultureclash future spacewar spacecolony society spacetravel futuristic romance space alien tribe alienplanet cgi marine soldier battle loveaffair antiwar powerrelations mindandsoul 3d samworthington zoesaldana sigourneyweaver jamescameron'"
      ]
     },
     "execution_count": 55,
     "metadata": {},
     "output_type": "execute_result"
    }
   ],
   "source": [
    "new_df['tags'][0]"
   ]
  },
  {
   "cell_type": "code",
   "execution_count": 56,
   "metadata": {},
   "outputs": [
    {
     "data": {
      "text/plain": [
       "\"captain barbossa, long believed to be dead, has come back to life and is headed to the edge of the earth with will turner and elizabeth swann. but nothing is quite as it seems. adventure fantasy action ocean drugabuse exoticisland eastindiatradingcompany loveofone'slife traitor shipwreck strongwoman ship alliance calypso afterlife fighter pirate swashbuckler aftercreditsstinger johnnydepp orlandobloom keiraknightley goreverbinski\""
      ]
     },
     "execution_count": 56,
     "metadata": {},
     "output_type": "execute_result"
    }
   ],
   "source": [
    "new_df['tags'][1]"
   ]
  },
  {
   "cell_type": "code",
   "execution_count": 57,
   "metadata": {},
   "outputs": [
    {
     "name": "stdout",
     "output_type": "stream",
     "text": [
      "Defaulting to user installation because normal site-packages is not writeable\n",
      "Requirement already satisfied: nltk in d:\\anaconda\\lib\\site-packages (3.8.1)\n",
      "Requirement already satisfied: click in d:\\anaconda\\lib\\site-packages (from nltk) (8.0.4)\n",
      "Requirement already satisfied: joblib in d:\\anaconda\\lib\\site-packages (from nltk) (1.2.0)\n",
      "Requirement already satisfied: regex>=2021.8.3 in d:\\anaconda\\lib\\site-packages (from nltk) (2022.7.9)\n",
      "Requirement already satisfied: tqdm in d:\\anaconda\\lib\\site-packages (from nltk) (4.65.0)\n",
      "Requirement already satisfied: colorama in d:\\anaconda\\lib\\site-packages (from click->nltk) (0.4.6)\n",
      "Note: you may need to restart the kernel to use updated packages.\n"
     ]
    },
    {
     "name": "stderr",
     "output_type": "stream",
     "text": [
      "\n",
      "[notice] A new release of pip is available: 24.0 -> 24.2\n",
      "[notice] To update, run: python.exe -m pip install --upgrade pip\n"
     ]
    }
   ],
   "source": [
    "pip install nltk"
   ]
  },
  {
   "cell_type": "code",
   "execution_count": 58,
   "metadata": {},
   "outputs": [
    {
     "data": {
      "text/plain": [
       "\"following the death of district attorney harvey dent, batman assumes responsibility for dent's crimes to protect the late attorney's reputation and is subsequently hunted by the gotham city police department. eight years later, batman encounters the mysterious selina kyle and the villainous bane, a new terrorist leader who overwhelms gotham's finest. the dark knight resurfaces to protect a city that has branded him an enemy. action crime drama thriller dccomics crimefighter terrorist secretidentity burglar hostagedrama timebomb gothamcity vigilante cover-up superhero villainess tragichero terrorism destruction catwoman catburglar imax flood criminalunderworld batman christianbale michaelcaine garyoldman christophernolan\""
      ]
     },
     "execution_count": 58,
     "metadata": {},
     "output_type": "execute_result"
    }
   ],
   "source": [
    "new_df['tags'][3]"
   ]
  },
  {
   "cell_type": "code",
   "execution_count": 59,
   "metadata": {},
   "outputs": [],
   "source": [
    "# this is the most important code of this project. It add all the 5000 tags from 5000 movie.\n",
    "# take most common 5000 words which is frequenty came in this paragraph. and remove the stop_words like is ,am , and ,to"
   ]
  },
  {
   "cell_type": "code",
   "execution_count": 60,
   "metadata": {},
   "outputs": [],
   "source": [
    "from sklearn.feature_extraction.text import CountVectorizer\n",
    "cv = CountVectorizer (max_features=5000 , stop_words = 'english')"
   ]
  },
  {
   "cell_type": "code",
   "execution_count": 61,
   "metadata": {},
   "outputs": [],
   "source": [
    "vectors = cv.fit_transform(new_df['tags']).toarray()"
   ]
  },
  {
   "cell_type": "code",
   "execution_count": 62,
   "metadata": {},
   "outputs": [
    {
     "data": {
      "text/plain": [
       "array([[0, 0, 0, ..., 0, 0, 0],\n",
       "       [0, 0, 0, ..., 0, 0, 0],\n",
       "       [0, 0, 0, ..., 0, 0, 0],\n",
       "       ...,\n",
       "       [0, 0, 0, ..., 0, 0, 0],\n",
       "       [0, 0, 0, ..., 0, 0, 0],\n",
       "       [0, 0, 0, ..., 0, 0, 0]], dtype=int64)"
      ]
     },
     "execution_count": 62,
     "metadata": {},
     "output_type": "execute_result"
    }
   ],
   "source": [
    "vectors"
   ]
  },
  {
   "cell_type": "code",
   "execution_count": 63,
   "metadata": {},
   "outputs": [],
   "source": [
    "import nltk"
   ]
  },
  {
   "cell_type": "code",
   "execution_count": 64,
   "metadata": {},
   "outputs": [],
   "source": [
    "# there are some issue in data like same words with different tense. eg. dance, dancing,,, action , actions\n",
    "# nltk convert loved , loves to love "
   ]
  },
  {
   "cell_type": "code",
   "execution_count": 65,
   "metadata": {},
   "outputs": [],
   "source": [
    "from nltk.stem.porter import PorterStemmer\n",
    "ps = PorterStemmer()"
   ]
  },
  {
   "cell_type": "code",
   "execution_count": 66,
   "metadata": {},
   "outputs": [],
   "source": [
    "def stem(text):\n",
    "    y = []\n",
    "    for i in text.split():\n",
    "        y.append(ps.stem(i))\n",
    "\n",
    "    return \" \".join(y)\n"
   ]
  },
  {
   "cell_type": "code",
   "execution_count": 67,
   "metadata": {},
   "outputs": [],
   "source": [
    "# ps.stem('pongajactions')"
   ]
  },
  {
   "cell_type": "code",
   "execution_count": 68,
   "metadata": {},
   "outputs": [
    {
     "name": "stderr",
     "output_type": "stream",
     "text": [
      "C:\\Users\\SAURAV RAJ\\AppData\\Local\\Temp\\ipykernel_9564\\3213734980.py:1: SettingWithCopyWarning: \n",
      "A value is trying to be set on a copy of a slice from a DataFrame.\n",
      "Try using .loc[row_indexer,col_indexer] = value instead\n",
      "\n",
      "See the caveats in the documentation: https://pandas.pydata.org/pandas-docs/stable/user_guide/indexing.html#returning-a-view-versus-a-copy\n",
      "  new_df['tags'] = new_df['tags'].apply(stem)\n"
     ]
    }
   ],
   "source": [
    "new_df['tags'] = new_df['tags'].apply(stem)"
   ]
  },
  {
   "cell_type": "code",
   "execution_count": 69,
   "metadata": {},
   "outputs": [
    {
     "data": {
      "text/plain": [
       "0       in the 22nd century, a parapleg marin is dispa...\n",
       "1       captain barbossa, long believ to be dead, ha c...\n",
       "2       a cryptic messag from bond’ past send him on a...\n",
       "3       follow the death of district attorney harvey d...\n",
       "4       john carter is a war-weary, former militari ca...\n",
       "                              ...                        \n",
       "4804    el mariachi just want to play hi guitar and ca...\n",
       "4805    a newlyw couple' honeymoon is upend by the arr...\n",
       "4806    \"signed, sealed, delivered\" introduc a dedic q...\n",
       "4807    when ambiti new york attorney sam is sent to s...\n",
       "4808    ever sinc the second grade when he first saw h...\n",
       "Name: tags, Length: 4806, dtype: object"
      ]
     },
     "execution_count": 69,
     "metadata": {},
     "output_type": "execute_result"
    }
   ],
   "source": [
    "new_df['tags']"
   ]
  },
  {
   "cell_type": "code",
   "execution_count": 70,
   "metadata": {},
   "outputs": [
    {
     "data": {
      "text/plain": [
       "array([0, 0, 0, ..., 0, 0, 0], dtype=int64)"
      ]
     },
     "execution_count": 70,
     "metadata": {},
     "output_type": "execute_result"
    }
   ],
   "source": [
    "vectors[0]"
   ]
  },
  {
   "cell_type": "code",
   "execution_count": 71,
   "metadata": {},
   "outputs": [
    {
     "data": {
      "text/plain": [
       "array(['000', '007', '10', ..., 'zone', 'zoo', 'zooeydeschanel'],\n",
       "      dtype=object)"
      ]
     },
     "execution_count": 71,
     "metadata": {},
     "output_type": "execute_result"
    }
   ],
   "source": [
    "cv.get_feature_names_out()"
   ]
  },
  {
   "cell_type": "code",
   "execution_count": 72,
   "metadata": {},
   "outputs": [
    {
     "name": "stdout",
     "output_type": "stream",
     "text": [
      "['000', '007', '10', '100', '11', '12', '13', '14', '15', '16', '17', '18', '18th', '19', '1930s', '1940s', '1950', '1950s', '1960s', '1970s', '1980', '1980s', '1985', '1990s', '1999', '19th', '19thcentury', '20', '200', '2009', '20th', '24', '25', '30', '300', '3d', '40', '50', '500', '60', '60s', '70', '70s', 'aaron', 'aaroneckhart', 'abandoned', 'abducted', 'abigailbreslin', 'abilities', 'ability', 'able', 'aboard', 'abuse', 'abusive', 'academy', 'accept', 'accepted', 'accepts', 'access', 'accident', 'accidental', 'accidentally', 'accompanied', 'accomplish', 'account', 'accountant', 'accused', 'ace', 'achieve', 'act', 'acting', 'action', 'actionhero', 'actions', 'activist', 'activities', 'activity', 'actor', 'actors', 'actress', 'acts', 'actual', 'actually', 'adam', 'adams', 'adamsandler', 'adamshankman', 'adaptation', 'adapted', 'addict', 'addicted', 'addiction', 'adolescence', 'adolescent', 'adopt', 'adopted', 'adoption', 'adopts', 'adrienbrody', 'adult', 'adultanimation', 'adultery', 'adulthood', 'adults', 'advantage', 'adventure', 'adventures', 'advertising', 'advice', 'affair', 'affairs', 'affection', 'affections', 'afghanistan', 'africa', 'african', 'africanamerican', 'aftercreditsstinger', 'afterlife', 'aftermath', 'age', 'aged', 'agedifference', 'agency', 'agenda', 'agent', 'agents', 'aggressive', 'aging', 'ago', 'agree', 'agrees', 'ahead', 'aid', 'aided', 'aids', 'ailing', 'air', 'airplane', 'airplanecrash', 'airport', 'aka', 'al', 'alabama', 'alan', 'alaska', 'albert', 'alcohol', 'alcoholic', 'alcoholism', 'alecbaldwin', 'alex', 'alfredhitchcock', 'ali', 'alice', 'alien', 'alieninvasion', 'alienlife', 'aliens', 'alike', 'alive', 'allen', 'alliance', 'allied', 'allies', 'allow', 'allowing', 'allows', 'ally', 'alongside', 'alpacino', 'alpha', 'alter', 'alternate', 'alternative', 'alzheimer', 'amanda', 'amandapeet', 'amandaseyfried', 'amateur', 'amazing', 'ambassador', 'ambition', 'ambitious', 'ambulance', 'ambush', 'america', 'american', 'americanabroad', 'americanfootball', 'americans', 'amid', 'amidst', 'amnesia', 'amp', 'amsterdam', 'amusementpark', 'amy', 'amyadams', 'amysmart', 'ana', 'anakin', 'analyst', 'anarchiccomedy', 'ancient', 'ancientrome', 'ancientworld', 'anderson', 'andiemacdowell', 'andrew', 'android', 'andy', 'andygarcía', 'angel', 'angelabassett', 'angeles', 'angelinajolie', 'angels', 'anger', 'anglee', 'angry', 'animal', 'animalattack', 'animalhorror', 'animals', 'animated', 'animation', 'anna', 'annafaris', 'anne', 'annehathaway', 'annemoss', 'annettebening', 'annie', 'anniversary', 'annual', 'answer', 'answers', 'ant', 'anthology', 'anthony', 'anthonyanderson', 'anthonyhopkins', 'anthropomorphism', 'anti', 'antics', 'antihero', 'antoinefuqua', 'antoniobanderas', 'antonyelchin', 'apart', 'apartheid', 'apartment', 'ape', 'apes', 'apocalypse', 'apocalyptic', 'apparent', 'apparently', 'appear', 'appears', 'apple', 'appointed', 'apprentice', 'approach', 'approaches', 'approaching', 'april', 'aquarium', 'arab', 'arch', 'archaeologist', 'architect', 'arctic', 'area', 'aren', 'arena', 'argument', 'arise', 'aristocrat', 'armed', 'arms', 'army', 'arnold', 'arnoldschwarzenegger', 'arrangedmarriage', 'arrest', 'arrested', 'arrival', 'arrive', 'arrives', 'arriving', 'arrogant', 'art', 'arthur', 'artificialintelligence', 'artist', 'artistic', 'artists', 'arts', 'ashley', 'ashleyjudd', 'ashtonkutcher', 'asia', 'asian', 'aside', 'ask', 'asked', 'asking', 'asks', 'aspirations', 'aspiring', 'assassin', 'assassinate', 'assassination', 'assassins', 'assault', 'assigned', 'assignment', 'assistant', 'assumes', 'asteroid', 'astronaut', 'astronauts', 'asylum', 'athlete', 'atomicbomb', 'attack', 'attacked', 'attacks', 'attempt', 'attempting', 'attempts', 'attending', 'attends', 'attention', 'attitude', 'attorney', 'attracted', 'attraction', 'attractive', 'audience', 'audiences', 'audition', 'august', 'aunt', 'austin', 'australia', 'australian', 'author', 'authorities', 'authority', 'autism', 'auto', 'automobileracing', 'avenge', 'average', 'avoid', 'awaits', 'awakens', 'award', 'away', 'awry', 'ax', 'babe', 'baby', 'bachelor', 'backdrop', 'backed', 'background', 'backgrounds', 'bad', 'badly', 'bag', 'bahamas', 'bail', 'balance', 'ball', 'ballet', 'baltimore', 'band', 'bandits', 'bangkok', 'banished', 'bank', 'banker', 'bankrobber', 'bankrobbery', 'bar', 'barely', 'bargained', 'barn', 'barney', 'barry', 'barrylevinson', 'bars', 'base', 'baseball', 'based', 'basedoncomicbook', 'basedongraphicnovel', 'basedonnovel', 'basedonplay', 'basedonstagemusical', 'basedontrueevents', 'basedontruestory', 'basedontvseries', 'basedonvideogame', 'basedonyoungadultnovel', 'basement', 'basketball', 'batman', 'battle', 'battlefield', 'battles', 'battling', 'bay', 'beach', 'bear', 'bears', 'beast', 'beasts', 'beat', 'beating', 'beautiful', 'beautifulwoman', 'beauty', 'becky', 'becominganadult', 'bed', 'bedroom', 'beer', 'befriends', 'began', 'begin', 'beginning', 'begins', 'behavior', 'beings', 'beliefs', 'believe', 'believed', 'believes', 'believing', 'beloved', 'ben', 'benaffleck', 'beneath', 'benfoster', 'beniciodeltoro', 'benjamin', 'benjaminbratt', 'benkingsley', 'bennett', 'benstiller', 'bent', 'berlin', 'best', 'bestfriend', 'bestfriendsinlove', 'bet', 'beth', 'betrayal', 'betrayed', 'bettemidler', 'better', 'betty', 'beverly', 'bible', 'big', 'bigger', 'biggest', 'biker', 'bikini', 'billhader', 'billionaire', 'billmurray', 'billnighy', 'billpaxton', 'billpullman', 'billy', 'billybobthornton', 'billycrudup', 'billycrystal', 'biography', 'bird', 'birth', 'birthday', 'bisexual', 'bishop', 'bit', 'bite', 'bitter', 'bizarre', 'black', 'blackmagic', 'blackmail', 'blackpeople', 'blacksmith', 'blade', 'blame', 'blind', 'bliss', 'block', 'blonde', 'blood', 'bloodsplatter', 'bloodthirsty', 'bloody', 'blow', 'blue', 'board', 'boarding', 'boardingschool', 'boat', 'bob', 'bobby', 'bobbyfarrelly', 'bobhoskins', 'bodies', 'body', 'bodyguard', 'bold', 'bollywood', 'bomb', 'bombing', 'bond', 'bonds', 'bone', 'book', 'books', 'border', 'bored', 'boredom', 'boring', 'born', 'boss', 'boston', 'botched', 'bound', 'boundaries', 'bounty', 'bountyhunter', 'bourne', 'box', 'boxer', 'boxing', 'boy', 'boyfriend', 'boys', 'bradleycooper', 'bradpitt', 'brain', 'brand', 'brave', 'bravery', 'brazil', 'brazilian', 'break', 'breakdown', 'breaking', 'breaks', 'brendanfraser', 'brendangleeson', 'brent', 'brettratner', 'brian', 'briandepalma', 'bride', 'bridesmaid', 'bridge', 'brief', 'brielarson', 'brien', 'bright', 'brilliant', 'bring', 'bringing', 'brings', 'brink', 'britain', 'british', 'britishsecretservice', 'brittanymurphy', 'broadway', 'broke', 'broken', 'broker', 'bronx', 'brooklyn', 'brooks', 'broom', 'brothel', 'brother', 'brotherbrotherrelationship', 'brothers', 'brothersisterrelationship', 'brought', 'brown', 'bruce', 'brucegreenwood', 'brucewillis', 'brutal', 'brutality', 'brutally', 'bryansinger', 'buck', 'buddies', 'buddy', 'buddycomedy', 'budget', 'build', 'building', 'built', 'bully', 'bullying', 'bumbling', 'bunny', 'burglar', 'buried', 'bus', 'bush', 'business', 'businessman', 'bust', 'busy', 'butcher', 'butler', 'buy', 'cabin', 'caesar', 'cage', 'cairo', 'cal', 'california', 'called', 'calls', 'calvin', 'camcorder', 'came', 'camera', 'cameraman', 'cameras', 'camerondiaz', 'camp', 'campaign', 'campbell', 'camping', 'campus', 'canada', 'canadian', 'cancer', 'candidate', 'candy', 'cannibal', 'capable', 'capital', 'capitalism', 'capt', 'captain', 'captive', 'capture', 'captured', 'captures', 'car', 'caraccident', 'carchase', 'carcrash', 'card', 'care', 'career', 'carefree', 'caretaker', 'caribbean', 'carjourney', 'carl', 'carlagugino', 'carmen', 'carol', 'carolina', 'carrace', 'carrie', 'carry', 'carrying', 'cars', 'cartel', 'carter', 'cartoon', 'caryelwes', 'case', 'caseyaffleck', 'cash', 'casino', 'cast', 'castle', 'cat', 'cataclysm', 'catastrophe', 'catch', 'catches', 'cateblanchett', 'catherinedeneuve', 'catherinekeener', 'catherinezeta', 'catholic', 'catholicism', 'cattle', 'caught', 'cause', 'caused', 'causes', 'causing', 'cavalry', 'cave', 'cavemen', 'celebrate', 'celebrated', 'celebration', 'celebrity', 'cellphone', 'cemetery', 'center', 'centered', 'centers', 'central', 'centuries', 'century', 'ceremony', 'certain', 'chain', 'chainsaw', 'challenge', 'challenged', 'challenges', 'champion', 'championship', 'chance', 'change', 'changed', 'changes', 'changing', 'channingtatum', 'chaos', 'chaotic', 'chapter', 'character', 'characters', 'charge', 'charged', 'charismatic', 'charles', 'charlie', 'charliesheen', 'charlizetheron', 'charlotte', 'charm', 'charming', 'chase', 'chased', 'chases', 'chauffeur', 'chazzpalminteri', 'cheating', 'cheerleader', 'chef', 'chemical', 'cher', 'chicago', 'chicken', 'chief', 'child', 'childabuse', 'childhero', 'childhood', 'children', 'chilling', 'china', 'chinese', 'chip', 'chiwetelejiofor', 'chloëgracemoretz', 'chloësevigny', 'chocolate', 'choice', 'choices', 'choose', 'chosen', 'chowyun', 'chris', 'chriscolumbus', 'chriscooper', 'chrisevans', 'chrishemsworth', 'chrisklein', 'chrispine', 'chrisrock', 'christ', 'christian', 'christianbale', 'christianity', 'christianslater', 'christinaapplegate', 'christinaricci', 'christine', 'christmas', 'christmasparty', 'christopher', 'christopherlloyd', 'christophernolan', 'christopherplummer', 'christopherwalken', 'christophwaltz', 'chrisweitz', 'chronicle', 'chronicles', 'chuck', 'church', 'cia', 'cigarettesmoking', 'cillianmurphy', 'cindy', 'cinema', 'circle', 'circuit', 'circumstances', 'circus', 'cities', 'citizens', 'city', 'civil', 'civilian', 'civilization', 'civilwar', 'claim', 'claims', 'claire', 'clairedanes', 'clan', 'clark', 'clash', 'class', 'classes', 'classic', 'classmate', 'classmates', 'classroom', 'claudevandamme', 'clay', 'clean', 'clear', 'clerk', 'client', 'clients', 'climate', 'climbing', 'clinteastwood', 'clique', 'cliveowen', 'clock', 'clone', 'cloning', 'close', 'closed', 'closer', 'club', 'clubs', 'clues', 'clutches', 'coach', 'coast', 'cocaine', 'code', 'cody', 'coffin', 'cohen', 'col', 'cold', 'coldwar', 'cole', 'colin', 'colinfarrell', 'colinfirth', 'collapse', 'colleague', 'colleagues', 'collect', 'collection', 'collector', 'college', 'collide', 'collision', 'colonel', 'colony', 'color', 'colorado', 'colorful', 'coma', 'combat', 'combined', 'come', 'comeback', 'comedian', 'comedic', 'comedy', 'comes', 'comet', 'comfort', 'comic', 'comics', 'coming', 'comingofage', 'comingout', 'command', 'commander', 'commercial', 'commit', 'commitment', 'committed', 'common', 'communication', 'community', 'companion', 'company', 'compete', 'competing', 'competition', 'complete', 'completely', 'complex', 'complicated', 'complications', 'composer', 'computer', 'computervirus', 'conan', 'concert', 'conclusion', 'condition', 'confederate', 'confession', 'confidence', 'confident', 'conflict', 'confront', 'confronted', 'confronts', 'confused', 'congress', 'conman', 'connected', 'connection', 'connell', 'connor', 'conquer', 'conscience', 'consequences', 'conservative', 'considered', 'conspiracy', 'conspire', 'constant', 'constantly', 'construction', 'consumed', 'contact', 'contain', 'contemporary', 'contend', 'contest', 'continue', 'continues', 'continuing', 'contract', 'control', 'controlled', 'controlling', 'controversial', 'convention', 'converge', 'convict', 'convicted', 'convince', 'convinced', 'convinces', 'cook', 'cooking', 'cool', 'cooper', 'cop', 'cope', 'cops', 'core', 'corner', 'corners', 'corporate', 'corporation', 'corpse', 'corrupt', 'corruption', 'cost', 'costume', 'couldn', 'count', 'country', 'countrymusic', 'countryside', 'county', 'coup', 'couple', 'couples', 'courage', 'courageous', 'course', 'court', 'courtcase', 'courteneycox', 'courtroom', 'cousin', 'cover', 'covert', 'cow', 'cowardliness', 'cowboy', 'crab', 'crack', 'craig', 'crash', 'crashes', 'crazy', 'create', 'created', 'creates', 'creation', 'creator', 'creature', 'creatures', 'creepy', 'crew', 'crime', 'crimefighter', 'crimes', 'criminal', 'criminals', 'crisis', 'critical', 'crocodile', 'crook', 'crooked', 'cross', 'crossed', 'crosses', 'crown', 'crucifixion', 'cruel', 'cruelty', 'cruise', 'crush', 'crystal', 'cuba', 'cubagoodingjr', 'cult', 'cultfilm', 'cultural', 'culture', 'cultureclash', 'cunning', 'cup', 'cure', 'curiosity', 'curious', 'current', 'curse', 'cursed', 'curtishanson', 'custody', 'customers', 'cut', 'cuts', 'cuttingthecord', 'cyberpunk', 'cyborg', 'cynical', 'dad', 'daily', 'dakotafanning', 'damage', 'dan', 'danaykroyd', 'dance', 'dancer', 'dancing', 'danger', 'dangerous', 'dangers', 'daniel', 'danielcraig', 'danielday', 'danielradcliffe', 'danny', 'dannyboyle', 'dannydevito', 'dannyglover', 'dare', 'daring', 'dark', 'darkcomedy', 'darkest', 'darkness', 'date', 'dates', 'dating', 'daughter', 'daughters', 'dave', 'david', 'davidarquette', 'davidduchovny', 'davidfincher', 'davidgordongreen', 'davidmorse', 'davido', 'davis', 'daxshepard', 'day', 'days', 'dc', 'dccomics', 'dea', 'dead', 'deadly', 'deaf', 'deal', 'dealer', 'dealers', 'dealing', 'deals', 'dean', 'death', 'deathofafriend', 'deathpenalty', 'deaths', 'debt', 'debut', 'decade', 'decades', 'decapitation', 'deceased', 'deceit', 'deception', 'decide', 'decided', 'decides', 'decision', 'decisions', 'dedicated', 'deeds', 'deep', 'deeper', 'deeply', 'defeat', 'defeating', 'defend', 'defense', 'deliver', 'delivers', 'delivery', 'delusion', 'demand', 'demanding', 'demands', 'demimoore', 'demon', 'demonic', 'demonicpossession', 'demons', 'dennisdugan', 'dennishopper', 'dennisquaid', 'dentist', 'denzelwashington', 'department', 'depressed', 'depression', 'depths', 'deputy', 'deranged', 'derek', 'descend', 'descends', 'desert', 'deserted', 'designed', 'desire', 'desires', 'desolate', 'despair', 'desperate', 'desperately', 'desperation', 'despite', 'destination', 'destined', 'destiny', 'destroy', 'destroyed', 'destroying', 'destruction', 'details', 'detective', 'detectives', 'determination', 'determine', 'determined', 'detroit', 'devastating', 'develop', 'developed', 'developer', 'develops', 'device', 'devil', 'devoted', 'diabolical', 'dialogue', 'diamond', 'diane', 'dianekeaton', 'dianekruger', 'dianelane', 'diary', 'dick', 'dictator', 'did', 'didn', 'die', 'died', 'diego', 'dies', 'differences', 'different', 'difficult', 'digging', 'dignity', 'diner', 'dinner', 'dinosaur', 'dinosaurs', 'dire', 'directed', 'direction', 'director', 'dirt', 'dirty', 'dirtycop', 'disabled', 'disappearance', 'disappeared', 'disappears', 'disaster', 'disastrous', 'discover', 'discovered', 'discovering', 'discovers', 'discovery', 'disease', 'disfigurement', 'disgraced', 'disguise', 'dishonesty', 'disillusioned', 'disney', 'disorder', 'dispatched', 'distant', 'district', 'distrust', 'disturbed', 'disturbing', 'diva', 'divided', 'division', 'divorce', 'divorced', 'dna', 'doc', 'doctor', 'document', 'documentary', 'documents', 'does', 'doesn', 'dog', 'dogs', 'doing', 'doll', 'dollar', 'dollars', 'dolphin', 'domination', 'don', 'donaldpetrie', 'donaldsutherland', 'doncheadle', 'donnell', 'doomed', 'doomsday', 'door', 'doorstep', 'doppelganger', 'dorothy', 'double', 'doublelife', 'doubt', 'doubts', 'doug', 'douglas', 'dr', 'dracula', 'drag', 'dragon', 'drama', 'dramatic', 'draw', 'drawing', 'drawn', 'draws', 'dream', 'dreams', 'drew', 'drewbarrymore', 'drifter', 'drink', 'drinking', 'drive', 'driven', 'driver', 'drives', 'driving', 'drop', 'drowning', 'drug', 'drugabuse', 'drugaddiction', 'drugdealer', 'druglord', 'drugs', 'drugtraffic', 'druguse', 'drunk', 'drunken', 'du', 'dualidentity', 'dude', 'duel', 'duke', 'dumped', 'dumps', 'duo', 'duringcreditsstinger', 'dustinhoffman', 'dutch', 'duty', 'dwarves', 'dwaynejohnson', 'dying', 'dyinganddeath', 'dylan', 'dynamic', 'dynasty', 'dysfunctional', 'dysfunctionalfamily', 'dystopia', 'dystopicfuture', 'eager', 'earlier', 'early', 'earn', 'earth', 'earthquake', 'east', 'easy', 'eating', 'eccentric', 'economic', 'economy', 'eddie', 'eddiegriffin', 'eddiemurphy', 'edge', 'edharris', 'editor', 'education', 'edward', 'edwardburns', 'edwardnorton', 'effort', 'efforts', 'egg', 'ego', 'egypt', 'egyptian', 'el', 'elaborate', 'elderly', 'election', 'elements', 'eliaskoteas', 'elijahwood', 'eliminate', 'elisabethshue', 'elite', 'elizabeth', 'elizabethbanks', 'ella', 'ellenburstyn', 'ellenpage', 'ellie', 'elliot', 'ellis', 'elusive', 'elves', 'elvis', 'embark', 'embarking', 'embarks', 'embassy', 'embroiled', 'emerge', 'emergency', 'emerges', 'emilehirsch', 'emily', 'emilyblunt', 'emilymortimer', 'emilywatson', 'emma', 'emmastone', 'emmathompson', 'emmawatson', 'emotional', 'emotionally', 'emotions', 'emperor', 'empire', 'employee', 'employees', 'employer', 'employs', 'encounter', 'encounters', 'end', 'ended', 'ending', 'endless', 'endoftheworld', 'ends', 'enemies', 'enemy', 'energy', 'enforcement', 'engaged', 'engagement', 'engineer', 'england', 'english', 'enigmatic', 'enjoy', 'enlist', 'enlists', 'enormous', 'ensemblecast', 'ensues', 'ensure', 'entangled', 'enter', 'enterprise', 'enters', 'entertainer', 'entertaining', 'entire', 'entirely', 'entity', 'environment', 'environmental', 'epic', 'epidemic', 'era', 'eric', 'ericbana', 'erin', 'ernest', 'eroticism', 'erupts', 'escapade', 'escape', 'escaped', 'escapefromprison', 'escapes', 'escaping', 'escort', 'especially', 'espionage', 'establishment', 'estate', 'estranged', 'eternal', 'ethan', 'ethanhawke', 'eugenelevy', 'europe', 'european', 'eva', 'evacuation', 'evamendes', 'evanrachelwood', 'eve', 'evening', 'event', 'events', 'eventually', 'everybody', 'everyday', 'evidence', 'evil', 'evolution', 'ewanmcgregor', 'ex', 'exact', 'exactly', 'examines', 'exchange', 'exciting', 'execution', 'executive', 'exercise', 'exist', 'existed', 'existence', 'existentialism', 'exists', 'exorcism', 'exotic', 'exoticisland', 'expectations', 'expected', 'expects', 'expedition', 'experience', 'experienced', 'experiences', 'experiencing', 'experiment', 'expert', 'explain', 'exploits', 'explorers', 'explores', 'exploring', 'explosion', 'explosive', 'expose', 'exposed', 'exposes', 'extra', 'extramaritalaffair', 'extraordinary', 'extraterrestrial', 'extraterrestrialtechnology', 'extreme', 'extremely', 'extremeviolence', 'eye', 'eyes', 'face', 'faced', 'faces', 'facility', 'facing', 'fact', 'factions', 'factory', 'fail', 'failed', 'failing', 'fails', 'fairy', 'fairytale', 'faith', 'fake', 'fall', 'fallen', 'falling', 'fallinginlove', 'falls', 'falseidentity', 'falselyaccused', 'fame', 'famed', 'families', 'family', 'familyrelationships', 'famkejanssen', 'famous', 'fan', 'fangvamp', 'fans', 'fantasies', 'fantastic', 'fantasy', 'fantasyworld', 'far', 'farewell', 'farm', 'farmer', 'farmhouse', 'fascinated', 'fashion', 'fast', 'faster', 'fat', 'fatal', 'fate', 'fateful', 'father', 'fatherdaughterrelationship', 'fathersonrelationship', 'favorite', 'fbi', 'fbiagent', 'fear', 'fears', 'fearsome', 'feature', 'features', 'featuring', 'federation', 'feel', 'feeling', 'feelings', 'feels', 'feet', 'fellow', 'female', 'femalefriendship', 'femalenudity', 'femaleprotagonist', 'festival', 'feud', 'fi', 'fiancee', 'fiancé', 'fiancée', 'fiction', 'fictional', 'fictionalplace', 'field', 'fields', 'fierce', 'fifth', 'fight', 'fighter', 'fighters', 'fighting', 'fights', 'figure', 'figures', 'filled', 'film', 'filmdirector', 'filmed', 'filming', 'filmmaker', 'filmmakers', 'filmmaking', 'filmproducer', 'films', 'final', 'finale', 'finally', 'financial', 'finding', 'finds', 'fine', 'finish', 'finn', 'fired', 'fireworks', 'firm', 'firsttime', 'fish', 'fisherman', 'fishing', 'fishoutofwater', 'fistfight', 'fit', 'fix', 'flame', 'flashback', 'flat', 'flee', 'flees', 'flesh', 'flight', 'fling', 'flint', 'flirt', 'flood', 'florida', 'flower', 'fly', 'flying', 'flyingsaucer', 'focus', 'focuses', 'foil', 'follow', 'followed', 'following', 'follows', 'food', 'foot', 'footage', 'football', 'footchase', 'forbidden', 'forbiddenlove', 'force', 'forced', 'forces', 'forcing', 'ford', 'foreign', 'forest', 'forestwhitaker', 'forever', 'forget', 'forgiveness', 'form', 'formed', 'formidable', 'forms', 'formula', 'fort', 'fortune', 'fortuneteller', 'forward', 'foster', 'fought', 'foundfootage', 'fourth', 'fox', 'framed', 'france', 'franchise', 'francis', 'francisco', 'francisfordcoppola', 'frank', 'frankenstein', 'frankie', 'frankoz', 'fraternity', 'fraud', 'freak', 'fred', 'freddieprinzejr', 'freddy', 'free', 'freedom', 'french', 'fresh', 'freshman', 'friend', 'friendly', 'friends', 'friendship', 'frightening', 'frog', 'fromragstoriches', 'frontier', 'frozen', 'frustrated', 'fu', 'fueled', 'fugitive', 'fulfill', 'fully', 'fun', 'fund', 'funeral', 'funny', 'furious', 'future', 'futuristic', 'gabrielbyrne', 'gaelgarcíabernal', 'gain', 'galaxy', 'gambler', 'gambling', 'game', 'games', 'gandhi', 'gang', 'gangs', 'gangster', 'gangsters', 'garage', 'garden', 'garrymarshall', 'gary', 'garygray', 'garyoldman', 'garysinise', 'gas', 'gasstation', 'gather', 'gave', 'gay', 'gayrelationship', 'genehackman', 'general', 'generation', 'generations', 'genetic', 'genetically', 'genetics', 'genius', 'gentle', 'geoffreyrush', 'george', 'georgeclooney', 'georgia', 'gerardbutler', 'german', 'germans', 'germany', 'getaway', 'gets', 'getting', 'ghetto', 'ghost', 'ghosts', 'giant', 'giants', 'gift', 'gifted', 'gig', 'girl', 'girlfriend', 'girlfriends', 'girls', 'given', 'gives', 'giving', 'gladiator', 'glamorous', 'glass', 'glennclose', 'global', 'globe', 'glory', 'goal', 'god', 'gods', 'goes', 'going', 'gold', 'golden', 'golf', 'gone', 'good', 'goodvsevil', 'gordon', 'gore', 'goreverbinski', 'gorgeous', 'gorilla', 'gossip', 'got', 'gotham', 'gothamcity', 'government', 'governor', 'grace', 'grade', 'gradually', 'graduate', 'graduation', 'grand', 'grandfather', 'grandmother', 'grant', 'graphic', 'grave', 'great', 'greater', 'greatest', 'greece', 'greed', 'greedy', 'greek', 'green', 'greg', 'gregkinnear', 'gregorypeck', 'grew', 'grief', 'grieving', 'griffin', 'grim', 'grip', 'grisly', 'gritty', 'ground', 'group', 'groupoffriends', 'grow', 'growing', 'growingup', 'grown', 'grows', 'gruesome', 'guard', 'guardian', 'guerrilla', 'guest', 'guests', 'guide', 'guilt', 'guilty', 'guitar', 'gun', 'gunfight', 'gunman', 'guns', 'gunslinger', 'guru', 'gusvansant', 'guy', 'guypearce', 'guyritchie', 'guys', 'gwynethpaltrow', 'gym', 'gypsy', 'hacker', 'hacking', 'hair', 'half', 'hall', 'halleberry', 'halloween', 'hallucination', 'han', 'hand', 'handed', 'hands', 'handsome', 'handtohandcombat', 'hang', 'hanging', 'hangs', 'hannah', 'happen', 'happened', 'happening', 'happens', 'happily', 'happiness', 'happy', 'hara', 'harbor', 'hard', 'harlem', 'harmony', 'harold', 'haroldramis', 'harrisonford', 'harry', 'harsh', 'hart', 'harvard', 'harvey', 'harveykeitel', 'hasn', 'hatches', 'hate', 'hatred', 'haunt', 'haunted', 'hauntedhouse', 'haunting', 'haven', 'having', 'havoc', 'hawaii', 'haydenchristensen', 'head', 'headed', 'heading', 'headquarters', 'heads', 'healing', 'health', 'hear', 'hearing', 'hears', 'heart', 'heartbreak', 'hearted', 'hearts', 'heather', 'heathledger', 'heaven', 'heavily', 'heavy', 'heavymetal', 'heir', 'heiress', 'heist', 'held', 'helen', 'helenabonhamcarter', 'helenhunt', 'helenmirren', 'helicopter', 'hell', 'help', 'helped', 'helping', 'helps', 'henchmen', 'henry', 'hero', 'heroes', 'heroic', 'heroin', 'heroism', 'hidden', 'hiddencamera', 'hide', 'hides', 'hiding', 'high', 'higher', 'highest', 'highlands', 'highly', 'highschool', 'highschoolsports', 'highschoolstudent', 'highway', 'hijack', 'hijacking', 'hilarious', 'hilaryduff', 'hilaryswank', 'hill', 'hills', 'himalaya', 'hip', 'hippie', 'hire', 'hired', 'hires', 'historic', 'historical', 'historicalfigure', 'history', 'hit', 'hitchhiker', 'hitman', 'hits', 'ho', 'hockey', 'hold', 'holding', 'holds', 'hole', 'holiday', 'holly', 'hollywood', 'holmes', 'holy', 'home', 'homeinvasion', 'homeland', 'homeless', 'homelessperson', 'homes', 'hometown', 'homicidal', 'homicide', 'homophobia', 'homosexuality', 'honey', 'honeymoon', 'hong', 'hongkong', 'honor', 'hood', 'hoodlum', 'hook', 'hop', 'hope', 'hopedavis', 'hopelessly', 'hopes', 'hoping', 'hopper', 'horrible', 'horrific', 'horrifying', 'horror', 'horrors', 'horse', 'hospital', 'host', 'hostage', 'hostile', 'hostility', 'hot', 'hotel', 'hotelroom', 'hotshot', 'hour', 'hours', 'house', 'housekeeper', 'housewife', 'housing', 'howard', 'huge', 'hughgrant', 'hughjackman', 'human', 'humananimalrelationship', 'humanity', 'humankind', 'humans', 'humiliation', 'humor', 'hundreds', 'hunger', 'hungry', 'hunt', 'hunted', 'hunter', 'hunters', 'hunting', 'hunts', 'hurricane', 'husband', 'hustler', 'hypnosis', 'hyun', 'ianmckellen', 'ice', 'icecube', 'iconic', 'idea', 'idealistic', 'identities', 'identity', 'idol', 'idyllic', 'ignoring', 'ii', 'iii', 'il', 'ill', 'illegal', 'illegaldrugs', 'illegalimmigration', 'illegalprostitution', 'illness', 'image', 'imaginary', 'imagination', 'imagined', 'imax', 'immediately', 'immigrant', 'immigrants', 'immigration', 'immortal', 'immortality', 'impact', 'imperial', 'important', 'impossible', 'imprisoned', 'imprisonment', 'inadvertently', 'incest', 'incident', 'include', 'includes', 'including', 'increasingly', 'incredible', 'independence', 'independent', 'independentfilm', 'india', 'indian', 'indiana', 'indianlead', 'indians', 'individual', 'industry', 'infamous', 'infant', 'infected', 'infection', 'infidelity', 'infiltrate', 'influence', 'informant', 'information', 'inhabitants', 'inheritance', 'inherits', 'initially', 'injured', 'injury', 'injustice', 'inmates', 'inner', 'innocence', 'innocent', 'insane', 'insanity', 'inside', 'insists', 'insomnia', 'inspector', 'inspiration', 'inspired', 'inspires', 'inspiring', 'installment', 'instant', 'instantly', 'instead', 'institution', 'instructor', 'insurance', 'intelligence', 'intelligent', 'intended', 'intends', 'intense', 'intent', 'intentions', 'intergalactic', 'international', 'internet', 'interrogation', 'interspeciesromance', 'intertwine', 'interview', 'interviews', 'intimate', 'intrigue', 'introduces', 'invaders', 'invading', 'invasion', 'invention', 'inventor', 'investigate', 'investigates', 'investigating', 'investigation', 'investigator', 'investment', 'invisible', 'invites', 'involved', 'involves', 'involving', 'iowa', 'ira', 'iran', 'iranian', 'iraq', 'ireland', 'irish', 'island', 'isn', 'isolated', 'isolation', 'israel', 'israeli', 'issues', 'italian', 'italy', 'ivanreitman', 'jack', 'jackblack', 'jackie', 'jackiechan', 'jacknicholson', 'jackson', 'jadapinkettsmith', 'jail', 'jake', 'jakegyllenhaal', 'james', 'jamescaan', 'jamesfranco', 'jamesivory', 'jamesmangold', 'jamesmarsden', 'jamesmcavoy', 'jameswan', 'jameswoods', 'jamie', 'jamiefoxx', 'jamieleecurtis', 'jane', 'japan', 'japanese', 'jason', 'jasonbateman', 'jasonbiggs', 'jasonlee', 'jasonsegel', 'jasonstatham', 'javierbardem', 'jay', 'jaychandrasekhar', 'jayroach', 'jazz', 'jealous', 'jealousy', 'jean', 'jeanreno', 'jedi', 'jeff', 'jeffbridges', 'jeffdaniels', 'jeffgoldblum', 'jennifer', 'jenniferaniston', 'jenniferconnelly', 'jennifergarner', 'jenniferjasonleigh', 'jenniferlawrence', 'jenniferlopez', 'jenniferlovehewitt', 'jeremyirons', 'jerry', 'jersey', 'jerusalem', 'jess', 'jesse', 'jessebradford', 'jesseeisenberg', 'jessica', 'jessicaalba', 'jessicabiel', 'jessicachastain', 'jesus', 'jesuschrist', 'jetli', 'jew', 'jewel', 'jewish', 'jigsaw', 'jill', 'jim', 'jimbroadbent', 'jimcarrey', 'jimcaviezel', 'jimmy', 'jin', 'joanallen', 'joancusack', 'joaquinphoenix', 'job', 'jobs', 'jodiefoster', 'joe', 'joel', 'joelcoen', 'joelschumacher', 'joepesci', 'joey', 'john', 'johnc', 'johncarpenter', 'johncusack', 'johngoodman', 'johnhurt', 'johnleguizamo', 'johnmalkovich', 'johnmctiernan', 'johnny', 'johnnydepp', 'johnnyknoxville', 'johnsingleton', 'johnson', 'johntravolta', 'johnturturro', 'johnwoo', 'join', 'joined', 'joining', 'joins', 'jon', 'jonahhill', 'jonathan', 'jonathanfrakes', 'jonathanrhysmeyers', 'jones', 'jonfavreau', 'jonturteltaub', 'jonvoight', 'jordan', 'joseph', 'josephgordon', 'josh', 'joshbrolin', 'joshhartnett', 'joshhutcherson', 'journalism', 'journalist', 'journey', 'journeys', 'joy', 'jr', 'judelaw', 'judge', 'judidench', 'julia', 'julian', 'juliannemoore', 'juliaroberts', 'juliastiles', 'julie', 'july', 'jump', 'jumps', 'jungle', 'junior', 'junkie', 'jurors', 'jury', 'just', 'justice', 'justinlong', 'justintimberlake', 'kansas', 'karaoke', 'karate', 'karen', 'karlurban', 'kat', 'kate', 'katebeckinsale', 'katebosworth', 'katehudson', 'katemara', 'katewinslet', 'katherine', 'katherineheigl', 'kathy', 'kathybates', 'katie', 'katieholmes', 'katniss', 'kay', 'keanureeves', 'keeping', 'keeps', 'keiraknightley', 'kelly', 'ken', 'kennedy', 'kennethbranagh', 'kevin', 'kevinbacon', 'kevincostner', 'kevinhart', 'kevinjames', 'kevinkline', 'kevinsmith', 'kevinspacey', 'key', 'kgb', 'khan', 'kid', 'kidnap', 'kidnapped', 'kidnappers', 'kidnapping', 'kidnaps', 'kids', 'kidsandfamily', 'kiefersutherland', 'kill', 'killed', 'killer', 'killerrobot', 'killers', 'killing', 'kills', 'kim', 'kimbasinger', 'kind', 'king', 'kingdom', 'kingpin', 'kirk', 'kirstendunst', 'kiss', 'kit', 'kitchen', 'knew', 'knife', 'knight', 'know', 'knowing', 'knowledge', 'known', 'knows', 'kong', 'korea', 'korean', 'kriskristofferson', 'kristenbell', 'kristenstewart', 'kristenwiig', 'krueger', 'kung', 'kungfu', 'kurt', 'kurtrussell', 'kyle', 'la', 'lab', 'labor', 'laboratory', 'ladies', 'lady', 'ladykiller', 'laid', 'lake', 'land', 'landing', 'lands', 'landscape', 'lane', 'language', 'lapd', 'large', 'larger', 'largest', 'larry', 'las', 'lasergun', 'lassehallström', 'lasvegas', 'late', 'later', 'latest', 'launch', 'launched', 'launches', 'laura', 'lauralinney', 'laurencefishburne', 'lavish', 'law', 'lawman', 'lawrence', 'laws', 'lawyer', 'laxative', 'lazy', 'lead', 'leader', 'leaders', 'leading', 'leads', 'league', 'learn', 'learning', 'learns', 'leave', 'leaves', 'leaving', 'led', 'lee', 'left', 'legacy', 'legal', 'legend', 'legendary', 'legends', 'lenaheadey', 'leo', 'leon', 'leonardnimoy', 'leonardodicaprio', 'lesbian', 'lesbianrelationship', 'lesliemann', 'lesson', 'lessons', 'let', 'lethal', 'letter', 'letters', 'level', 'levitt', 'lewis', 'lgbt', 'liamneeson', 'liar', 'liberation', 'lie', 'lies', 'lieutenant', 'lievschreiber', 'life', 'lifeanddeath', 'lifelong', 'lifestyle', 'lifetime', 'light', 'lightning', 'lights', 'like', 'likes', 'lily', 'limits', 'lincoln', 'linda', 'lindsaylohan', 'line', 'lines', 'link', 'lion', 'lisa', 'list', 'literature', 'little', 'littleboy', 'live', 'lived', 'lives', 'living', 'll', 'loan', 'local', 'locals', 'location', 'locked', 'loganlerman', 'lola', 'london', 'londonengland', 'lone', 'loneliness', 'lonely', 'loner', 'long', 'longer', 'longtime', 'look', 'looking', 'looks', 'loose', 'loosely', 'lord', 'los', 'losangeles', 'lose', 'loser', 'loses', 'losing', 'loss', 'lossofbrother', 'lossofchild', 'lossoffamily', 'lossoffather', 'lossofhusband', 'lossoflover', 'lossofmother', 'lossofparents', 'lossofson', 'lost', 'lot', 'lou', 'louis', 'louisiana', 'lounge', 'love', 'loveatfirstsight', 'loved', 'loveletter', 'loveofone', 'lover', 'lovers', 'loves', 'lovesickness', 'lovetriangle', 'loving', 'low', 'loyal', 'loyalty', 'lt', 'lucas', 'luck', 'lucky', 'lucy', 'lucyliu', 'luke', 'lukewilson', 'lured', 'lust', 'luxury', 'lying', 'ma', 'machine', 'machinegun', 'macy', 'mad', 'madea', 'madness', 'mafia', 'magazine', 'maggie', 'magic', 'magical', 'magician', 'maid', 'main', 'maine', 'maintain', 'major', 'make', 'maker', 'makes', 'making', 'malcolm', 'malcolmd', 'male', 'malefemalerelationship', 'malefriendship', 'malenudity', 'mall', 'man', 'manager', 'manages', 'mandymoore', 'manhattan', 'manhunt', 'maniac', 'manipulation', 'mankind', 'manner', 'mannered', 'mansion', 'manvsmachine', 'map', 'marcforster', 'march', 'marcus', 'maria', 'mariabello', 'marie', 'marijuana', 'marine', 'marisatomei', 'mark', 'marked', 'market', 'markruffalo', 'markwahlberg', 'marlonbrando', 'marlonwayans', 'marriage', 'marriagecrisis', 'marriageproposal', 'married', 'marriedcouple', 'marries', 'marry', 'marrying', 'mars', 'marshal', 'marshall', 'martha', 'martial', 'martialarts', 'martin', 'martincampbell', 'martinlawrence', 'martinscorsese', 'marty', 'marvelcinematicuniverse', 'marvelcomic', 'mary', 'mask', 'masked', 'mass', 'massacre', 'massive', 'massmurder', 'master', 'mastermind', 'masters', 'masturbation', 'match', 'mates', 'mathematician', 'mathematics', 'matrix', 'matt', 'mattdamon', 'mattdillon', 'matter', 'matters', 'matthew', 'matthewbroderick', 'matthewmcconaughey', 'maurice', 'max', 'maya', 'maybe', 'mayhem', 'mayor', 'maze', 'mccall', 'mcclane', 'mcphee', 'mean', 'meaning', 'means', 'meant', 'meat', 'mechanic', 'medal', 'medallion', 'media', 'medical', 'medication', 'medicine', 'medieval', 'meet', 'meeting', 'meets', 'mega', 'megryan', 'melbrooks', 'melgibson', 'melvin', 'member', 'members', 'memories', 'memory', 'memoryloss', 'men', 'menace', 'mental', 'mentalillness', 'mentally', 'mentallydisabled', 'mentor', 'mephisto', 'mercenaries', 'mercenary', 'merciless', 'mere', 'mermaid', 'merylstreep', 'message', 'messages', 'met', 'metal', 'meteor', 'methods', 'metro', 'mexican', 'mexicanstandoff', 'mexico', 'mia', 'miami', 'michael', 'michaelangarano', 'michaelbay', 'michaelcaine', 'michaeldouglas', 'michaelfassbender', 'michaelj', 'michaelkeaton', 'michaelmoore', 'michaelshannon', 'michaelsheen', 'michelle', 'michellemonaghan', 'michellepfeiffer', 'michigan', 'mickeyrourke', 'mid', 'middle', 'middleeast', 'midlifecrisis', 'midst', 'midwest', 'mighty', 'mike', 'mikemyers', 'mikenewell', 'milakunis', 'mild', 'miles', 'military', 'millajovovich', 'miller', 'million', 'millionaire', 'millions', 'mind', 'minds', 'miner', 'mining', 'minions', 'minister', 'minnesota', 'minniedriver', 'minor', 'minute', 'minutes', 'miracle', 'miranda', 'mirror', 'misadventures', 'mischievous', 'miserable', 'misfit', 'misguided', 'miss', 'missile', 'missing', 'missingperson', 'mission', 'missionary', 'missionofmurder', 'mississippi', 'mistaken', 'mistakenidentity', 'mistakenly', 'mistakes', 'mistress', 'mitch', 'mitchell', 'mix', 'mixed', 'mob', 'mobster', 'mockumentary', 'model', 'modern', 'mole', 'molly', 'mom', 'moment', 'moments', 'money', 'monica', 'monk', 'monkey', 'monster', 'monsters', 'monstrous', 'montana', 'month', 'months', 'moon', 'moonlights', 'moore', 'moral', 'morality', 'morganfreeman', 'morgue', 'mormon', 'morning', 'morrischestnut', 'mortal', 'moscow', 'moses', 'motel', 'mother', 'motherdaughterrelationship', 'motherrole', 'mothersonrelationship', 'motion', 'motor', 'motorcycle', 'mountain', 'mountains', 'mouse', 'moved', 'movement', 'moves', 'movie', 'movies', 'moviestar', 'moving', 'mr', 'mrs', 'multi', 'multiple', 'multiplestorylines', 'mumblecore', 'mumblegore', 'murder', 'murdered', 'murderer', 'murderhunt', 'murdering', 'murderous', 'murders', 'murphy', 'museum', 'music', 'musical', 'musicband', 'musician', 'musicians', 'muslim', 'mutant', 'mutants', 'mutation', 'mutiny', 'mutual', 'mysteries', 'mysterious', 'mysteriously', 'mystery', 'mystical', 'mythical', 'mythology', 'naive', 'nam', 'named', 'names', 'nancy', 'nanny', 'naomiwatts', 'narcotics', 'narration', 'nasa', 'nasty', 'natalie', 'natalieportman', 'nathan', 'nation', 'national', 'nations', 'native', 'nativeamerican', 'natural', 'naturally', 'nature', 'navigate', 'navy', 'nazi', 'nazigermany', 'nazis', 'neal', 'near', 'nearby', 'nearly', 'necessary', 'need', 'needed', 'needs', 'nefarious', 'neighbor', 'neighborhood', 'neighbors', 'neiljordan', 'nelson', 'nemesis', 'neo', 'nephew', 'nerd', 'nerdy', 'netherlands', 'network', 'neurotic', 'nevada', 'nevecampbell', 'new', 'newborn', 'newcomer', 'newfound', 'newidentity', 'newjersey', 'newlove', 'newly', 'newmexico', 'news', 'newspaper', 'newyear', 'newyork', 'newyorkcity', 'nialong', 'nice', 'nicholas', 'nick', 'nicknolte', 'nicolascage', 'nicolekidman', 'niece', 'night', 'nightclub', 'nightmare', 'nightmares', 'nightshyamalan', 'nightstand', 'ninja', 'noble', 'noir', 'non', 'normal', 'north', 'northern', 'notorious', 'novel', 'novelist', 'nuclear', 'nuclearmissile', 'nudity', 'number', 'numberintitle', 'numbers', 'numerous', 'nun', 'nurse', 'nypd', 'object', 'obsessed', 'obsession', 'obsessive', 'obstacles', 'obtain', 'occult', 'occupied', 'occurrences', 'occurs', 'ocean', 'odd', 'oddball', 'odds', 'odyssey', 'offer', 'offered', 'offers', 'office', 'officer', 'officers', 'official', 'ohio', 'oil', 'old', 'older', 'oliver', 'oliverstone', 'olivia', 'oliviawilde', 'olympic', 'olympicgames', 'omar', 'ones', 'online', 'ontherun', 'open', 'opening', 'opens', 'opera', 'operation', 'operative', 'opportunity', 'opposing', 'opposite', 'oppositesattract', 'orcs', 'order', 'ordered', 'orders', 'ordinary', 'oregon', 'organization', 'organized', 'organizedcrime', 'original', 'origins', 'orlandobloom', 'orleans', 'orphan', 'orphanage', 'orphaned', 'oscar', 'oscaraward', 'otherworldly', 'outback', 'outbreak', 'outcast', 'outerspace', 'outlaw', 'outrageous', 'outside', 'overcome', 'overrun', 'owenwilson', 'owl', 'owned', 'owner', 'owners', 'oxford', 'oz', 'paced', 'pacific', 'pack', 'package', 'packed', 'pact', 'pageant', 'paid', 'pain', 'painful', 'painter', 'painting', 'pair', 'pal', 'palace', 'pals', 'pam', 'pan', 'panic', 'panther', 'paradise', 'parallel', 'parallelworld', 'paranoia', 'paranoid', 'paranormal', 'parent', 'parents', 'parentskidsrelationship', 'paris', 'park', 'parker', 'parody', 'parole', 'particularly', 'parties', 'partner', 'partners', 'partnership', 'parts', 'party', 'partying', 'pass', 'passed', 'passenger', 'passengers', 'passes', 'passing', 'passion', 'passionate', 'past', 'pastor', 'path', 'paths', 'patient', 'patients', 'patriarch', 'patrick', 'patrickstewart', 'patrickwilson', 'paul', 'paulapatton', 'paulbettany', 'paulgiamatti', 'paulgreengrass', 'paulnewman', 'paulrudd', 'paulw', 'paulwalker', 'pawns', 'pay', 'pays', 'peace', 'peaceful', 'pearl', 'peasant', 'penguin', 'penguins', 'penn', 'pennsylvania', 'penélopecruz', 'people', 'perfect', 'perform', 'performance', 'performances', 'performer', 'performing', 'perilous', 'period', 'perioddrama', 'perry', 'person', 'personal', 'personality', 'peru', 'pet', 'pete', 'peter', 'peterjackson', 'petersarsgaard', 'petersegal', 'petty', 'phil', 'philadelphia', 'philippe', 'philipseymourhoffman', 'phillipnoyce', 'philosophy', 'phone', 'photo', 'photographer', 'photography', 'physical', 'pianist', 'piano', 'pick', 'picks', 'picture', 'pictures', 'piece', 'pieces', 'piercebrosnan', 'pierre', 'pig', 'pilot', 'pilots', 'pimp', 'piperperabo', 'pirate', 'pistol', 'pits', 'place', 'placed', 'places', 'plague', 'plagued', 'plan', 'plane', 'planet', 'planned', 'plannedmurder', 'planning', 'plans', 'plant', 'plantation', 'play', 'playboy', 'played', 'player', 'players', 'playground', 'playing', 'plays', 'playwright', 'pleasure', 'plenty', 'plot', 'plots', 'plunged', 'plus', 'po', 'poet', 'poetry', 'point', 'poison', 'poker', 'polar', 'police', 'policebrutality', 'policechase', 'policeman', 'policeofficer', 'policeoperation', 'political', 'politician', 'politics', 'pollution', 'polly', 'pool', 'poor', 'pop', 'popstar', 'popular', 'popularity', 'population', 'porn', 'pornography', 'port', 'portal', 'porter', 'portrait', 'pose', 'posing', 'position', 'possess', 'possessed', 'possesses', 'possession', 'possibility', 'possible', 'possibly', 'post', 'posttraumaticstressdisorder', 'pot', 'potential', 'potter', 'poverty', 'power', 'powered', 'powerful', 'poweroutage', 'powers', 'prank', 'prayer', 'pre', 'preacher', 'precious', 'predator', 'pregnancy', 'pregnancyandbirth', 'pregnant', 'prehistoric', 'prejudice', 'prejudices', 'premonition', 'prepare', 'prepared', 'prepares', 'preparing', 'prequel', 'presence', 'present', 'presents', 'president', 'presidential', 'presidentialelection', 'press', 'pressure', 'pretty', 'prevent', 'previous', 'prey', 'price', 'pride', 'priest', 'prime', 'prince', 'princess', 'principal', 'prison', 'prisoner', 'prisoners', 'prisonersofwar', 'private', 'prize', 'pro', 'problem', 'problems', 'process', 'prodigy', 'produced', 'producer', 'product', 'production', 'professional', 'professor', 'profit', 'program', 'project', 'prom', 'prominent', 'promise', 'promised', 'promises', 'promising', 'promoter', 'prompting', 'property', 'prophecy', 'prosecution', 'prostitute', 'prostitution', 'protect', 'protecting', 'protection', 'protest', 'prove', 'proves', 'provide', 'psychiatric', 'psychiatrist', 'psychic', 'psychological', 'psychologist', 'psychology', 'psychopath', 'psychotic', 'pub', 'puberty', 'public', 'pull', 'pulled', 'pulls', 'punishment', 'punk', 'puppet', 'puppy', 'pure', 'purpose', 'pursue', 'pursued', 'pursues', 'pursuing', 'pursuit', 'push', 'pushed', 'pushes', 'puts', 'putting', 'quarantine', 'quarterback', 'queen', 'queenlatifah', 'queens', 'quentintarantino', 'quest', 'question', 'questions', 'quick', 'quickly', 'quiet', 'quirky', 'quite', 'rabbit', 'race', 'raceagainsttime', 'racer', 'races', 'rachaelleighcook', 'rachel', 'rachelmcadams', 'rachelweisz', 'racial', 'racing', 'racism', 'radio', 'rag', 'rage', 'rageandhate', 'raid', 'railroad', 'rain', 'raise', 'raised', 'raising', 'ralph', 'ralphfiennes', 'rampage', 'ranch', 'ranger', 'rangers', 'ranking', 'ransom', 'rape', 'rapidly', 'rapmusic', 'rapper', 'rare', 'rat', 'ravaged', 'raw', 'ray', 'rayliotta', 'raymond', 'raywinstone', 'reach', 'reaches', 'reading', 'ready', 'real', 'reality', 'realize', 'realizes', 'realizing', 'really', 'realm', 'reaper', 'reason', 'rebecca', 'rebeccahall', 'rebel', 'rebellion', 'rebellious', 'rebels', 'reboot', 'rebuild', 'receive', 'receives', 'receiving', 'recent', 'recently', 'reclaim', 'reclusive', 'reconcile', 'reconnect', 'record', 'recording', 'records', 'recover', 'recovering', 'recruit', 'recruited', 'recruits', 'red', 'redemption', 'reesewitherspoon', 'refuge', 'refuses', 'regain', 'regime', 'reign', 'reilly', 'relationship', 'relationshipproblems', 'relationships', 'relatives', 'release', 'released', 'relentless', 'religion', 'religionandsupernatural', 'religious', 'relocated', 'reluctant', 'reluctantly', 'rely', 'remain', 'remaining', 'remains', 'remake', 'remember', 'remote', 'renegade', 'rennyharlin', 'renowned', 'renéezellweger', 'repayment', 'replace', 'report', 'reporter', 'repressed', 'republic', 'reputation', 'rescue', 'rescued', 'rescues', 'rescuing', 'research', 'researcher', 'resident', 'residents', 'resistance', 'resolve', 'resort', 'resources', 'respect', 'respected', 'respective', 'response', 'responsibility', 'responsible', 'rest', 'restaurant', 'restore', 'result', 'resulting', 'results', 'resurrected', 'resurrection', 'retelling', 'retired', 'retirement', 'retreat', 'retribution', 'retrieve', 'return', 'returned', 'returning', 'returns', 'reunion', 'reunite', 'reunited', 'reunites', 'reveal', 'revealed', 'revealing', 'reveals', 'revelation', 'revenge', 'revolution', 'revolutionary', 'revolves', 'reward', 'rich', 'richard', 'richarddonner', 'richarddreyfuss', 'richardgere', 'richardlinklater', 'rick', 'rid', 'riddle', 'ride', 'rider', 'riding', 'ridleyscott', 'rifle', 'right', 'rightandjustice', 'rights', 'riley', 'ring', 'riot', 'ripley', 'rise', 'rises', 'rising', 'risk', 'risks', 'ritual', 'rival', 'rivalry', 'rivals', 'river', 'road', 'roadmovie', 'roadtrip', 'rob', 'robber', 'robbers', 'robbery', 'robcohen', 'robert', 'robertdeniro', 'robertdowneyjr', 'robertduvall', 'robertenglund', 'robertredford', 'robertrodriguez', 'robertzemeckis', 'robin', 'robinson', 'robinwilliams', 'robinwright', 'robot', 'robots', 'robreiner', 'rock', 'rockandroll', 'rocket', 'rockstar', 'rocky', 'roger', 'rogerdonaldson', 'rogermoore', 'rogue', 'rolandemmerich', 'role', 'roles', 'roll', 'roman', 'romance', 'romantic', 'romanticcomedy', 'rome', 'romeo', 'romero', 'ron', 'ronhoward', 'ronnie', 'roof', 'rookie', 'room', 'roommate', 'roots', 'rosariodawson', 'rose', 'rosebyrne', 'ross', 'rough', 'round', 'routine', 'row', 'roy', 'royal', 'royalty', 'ruby', 'rugrats', 'rule', 'ruled', 'rules', 'run', 'runaway', 'runner', 'running', 'runs', 'rupertgrint', 'rural', 'ruralsetting', 'rush', 'russell', 'russellcrowe', 'russia', 'russian', 'russians', 'ruth', 'ruthless', 'ryan', 'ryangosling', 'ryanphillippe', 'ryanreynolds', 'sabotage', 'sacrifice', 'sadism', 'sadistic', 'sadness', 'safe', 'safety', 'saga', 'said', 'sailing', 'sailor', 'sale', 'salesman', 'sally', 'salmahayek', 'sam', 'samantha', 'samanthamorton', 'sammendes', 'samneill', 'samraimi', 'samrockwell', 'samuel', 'samuell', 'samurai', 'san', 'sandrabullock', 'sandy', 'sanfrancisco', 'sanity', 'santa', 'santaclaus', 'sara', 'sarah', 'sarahjessicaparker', 'sarahmichellegellar', 'satan', 'satellite', 'satire', 'savage', 'save', 'saved', 'saves', 'saving', 'savingtheworld', 'say', 'sbook', 'scam', 'scandal', 'scared', 'scarlettjohansson', 'scary', 'scene', 'scenes', 'scheme', 'schemes', 'scheming', 'schizophrenia', 'scholarship', 'school', 'schoolteacher', 'sci', 'science', 'sciencefiction', 'scientific', 'scientist', 'scientists', 'score', 'scotland', 'scott', 'scottglenn', 'scottish', 'scout', 'screaming', 'screen', 'screenwriter', 'scubadiving', 'sdailylife', 'sea', 'seal', 'sean', 'seanbean', 'seanconnery', 'seannwilliamscott', 'seanpenn', 'search', 'searches', 'searching', 'seas', 'seaside', 'season', 'seasoned', 'seattle', 'sebastian', 'second', 'secret', 'secretagent', 'secretary', 'secretidentity', 'secretintelligenceservice', 'secretlove', 'secretly', 'secretmission', 'secretorganization', 'secrets', 'secretservice', 'secretsociety', 'section', 'secure', 'security', 'securityguard', 'seduction', 'seductive', 'seeing', 'seek', 'seeking', 'seeks', 'seemingly', 'seen', 'sees', 'self', 'selfsacrifice', 'sell', 'selling', 'sells', 'selmablair', 'semi', 'senate', 'senator', 'send', 'sending', 'sends', 'senior', 'seniors', 'sense', 'sent', 'sentence', 'sentenced', 'seo', 'separate', 'separated', 'separation', 'sequel', 'sergeant', 'serial', 'serialkiller', 'series', 'seriesofmurders', 'seriously', 'servant', 'serve', 'serves', 'service', 'serving', 'set', 'seth', 'sethgreen', 'sethrogen', 'sets', 'setting', 'settle', 'seve', 'seven', 'severe', 'severely', 'sex', 'sexaddiction', 'sexual', 'sexualabuse', 'sexuality', 'sexually', 'sexualobsession', 'sexy', 'shadow', 'shady', 'shake', 'shaken', 'shakespeare', 'shane', 'shannynsossamon', 'shape', 'share', 'shared', 'shares', 'sharing', 'shark', 'sharkattack', 'sharks', 'sharonstone', 'sharp', 'shattered', 'shaw', 'shawnlevy', 'shelter', 'sheltered', 'sheriff', 'shialabeouf', 'ship', 'shipwreck', 'shocked', 'shocking', 'shoes', 'shooting', 'shootout', 'shop', 'short', 'shot', 'shotgun', 'showdown', 'shower', 'showing', 'shows', 'shrek', 'shut', 'shy', 'shyness', 'siblings', 'sick', 'sidekick', 'sides', 'sidney', 'siege', 'sight', 'sights', 'sign', 'signed', 'signs', 'sigourneyweaver', 'silent', 'silver', 'similar', 'simon', 'simonpegg', 'simonwest', 'simple', 'simply', 'sin', 'sing', 'singer', 'singers', 'singing', 'single', 'singlefather', 'singlemother', 'singleparent', 'sinister', 'sir', 'sister', 'sisters', 'sistersisterrelationship', 'site', 'sittingonatoilet', 'situation', 'situations', 'size', 'sized', 'skateboarding', 'skeleton', 'skeptical', 'skilled', 'skills', 'skull', 'sky', 'skyscraper', 'slacker', 'slapstick', 'slasher', 'slaughter', 'slave', 'slavery', 'slaves', 'sleazy', 'sleep', 'sleeping', 'sleepy', 'slife', 'slowly', 'slum', 'small', 'smalltown', 'smart', 'smith', 'smitten', 'smoking', 'smuggling', 'snake', 'sniper', 'snow', 'snowstorm', 'soccer', 'social', 'socialite', 'socially', 'society', 'sociopath', 'sofia', 'solar', 'sold', 'soldier', 'soldiers', 'sole', 'solomon', 'solve', 'somebody', 'somewhat', 'son', 'song', 'songs', 'songwriter', 'sons', 'soon', 'sophie', 'sorcerer', 'sorcery', 'sorority', 'sort', 'soul', 'souls', 'soundtrack', 'source', 'south', 'southafrica', 'southern', 'southernusa', 'soviet', 'space', 'spacecraft', 'spacemarine', 'spacemission', 'spaceopera', 'spaceship', 'spacetravel', 'spain', 'spanish', 'spanning', 'sparks', 'speak', 'speaking', 'special', 'specialist', 'species', 'spectacle', 'spectacular', 'speech', 'speed', 'spell', 'spend', 'spending', 'spends', 'spent', 'spider', 'spikelee', 'spiral', 'spirit', 'spirited', 'spirits', 'spiritual', 'spoof', 'sport', 'sports', 'spot', 'spotlight', 'spread', 'spring', 'spy', 'squad', 'st', 'stadium', 'staff', 'stage', 'stages', 'stake', 'stakes', 'stalked', 'stalker', 'stalking', 'stan', 'stand', 'standing', 'stands', 'star', 'starcrossedlovers', 'stardom', 'stark', 'starring', 'stars', 'start', 'started', 'starting', 'starts', 'state', 'states', 'station', 'status', 'stay', 'steal', 'stealing', 'steals', 'steampunk', 'steel', 'stella', 'step', 'stepfather', 'stephen', 'stephendorff', 'stephenfrears', 'stephenherek', 'stephenrea', 'stepmother', 'steps', 'steve', 'stevebuscemi', 'stevecarell', 'stevemartin', 'steven', 'stevens', 'stevenseagal', 'stevensoderbergh', 'stevenspielberg', 'stevezahn', 'stewart', 'stock', 'stockbroker', 'stolen', 'stone', 'stoneage', 'stoner', 'stop', 'stopmotion', 'stopping', 'store', 'stories', 'storm', 'story', 'straight', 'stranded', 'strange', 'stranger', 'strangers', 'strategy', 'street', 'streetgang', 'streets', 'strength', 'stress', 'strict', 'strike', 'strikes', 'strip', 'stripclub', 'stripes', 'stripper', 'strong', 'struggle', 'struggles', 'struggling', 'stuart', 'stuck', 'student', 'students', 'studies', 'studio', 'study', 'stumble', 'stumbles', 'stunning', 'stunts', 'style', 'sub', 'submarine', 'suburban', 'suburbia', 'subway', 'succeed', 'succeeds', 'success', 'successful', 'successfully', 'successor', 'sudden', 'suddenly', 'sue', 'suffering', 'suffers', 'suggests', 'suicidal', 'suicide', 'suicideattempt', 'suit', 'suitcase', 'suitor', 'sullivan', 'summer', 'sun', 'sunglasses', 'super', 'superhero', 'superheroes', 'superhuman', 'superhumanstrength', 'superman', 'supermarket', 'supernatural', 'supernaturalpowers', 'superpowers', 'superstar', 'supervillain', 'supervisor', 'supply', 'support', 'supposed', 'suppressedpast', 'sure', 'surface', 'surfer', 'surgeon', 'surgery', 'surprise', 'surprising', 'surreal', 'surrealism', 'surrounding', 'surveillance', 'survival', 'survive', 'survived', 'survives', 'surviving', 'survivor', 'survivors', 'susan', 'susansarandon', 'suspect', 'suspected', 'suspecting', 'suspects', 'suspense', 'suspicion', 'suspicious', 'sweet', 'sweetheart', 'swimmingpool', 'sword', 'swordandsorcery', 'swordfight', 'swordplay', 'sylvesterstallone', 'table', 'tag', 'tail', 'taken', 'takes', 'taking', 'tale', 'talent', 'talented', 'tales', 'talk', 'talking', 'talkinganimal', 'talks', 'tall', 'tank', 'tape', 'target', 'targeted', 'targets', 'task', 'tasked', 'taste', 'taxi', 'taxidriver', 'taylor', 'teach', 'teacher', 'teachers', 'teaches', 'teaching', 'team', 'teams', 'tear', 'tears', 'tech', 'technology', 'ted', 'teen', 'teenage', 'teenagecrush', 'teenagegirl', 'teenager', 'teenagers', 'teencomedy', 'teenmovie', 'teens', 'telekinesis', 'telepathy', 'television', 'tell', 'telling', 'tells', 'temple', 'tennessee', 'tennis', 'tense', 'tension', 'term', 'terminal', 'terminalillness', 'terms', 'terrencehoward', 'terrible', 'terrier', 'terrified', 'terrifying', 'territory', 'terror', 'terrorism', 'terrorist', 'terrorists', 'terrorize', 'terry', 'terrygilliam', 'tess', 'test', 'tested', 'tests', 'texas', 'thailand', 'thandienewton', 'thanks', 'thanksgiving', 'theater', 'theatremilieu', 'theft', 'theory', 'therapist', 'therapy', 'thief', 'thieves', 'thing', 'things', 'think', 'thinking', 'thinks', 'thirty', 'thomas', 'thomashadenchurch', 'thomasjane', 'thompson', 'thought', 'thoughts', 'thousand', 'thousands', 'threat', 'threaten', 'threatened', 'threatening', 'threatens', 'threats', 'thrill', 'thriller', 'thrilling', 'throne', 'throw', 'thrown', 'thrust', 'thugs', 'thwart', 'ticket', 'ties', 'tiger', 'tim', 'timallen', 'timburton', 'time', 'timeless', 'times', 'timetravel', 'timothyolyphant', 'timrobbins', 'timroth', 'tiny', 'titanic', 'title', 'tobeymaguire', 'today', 'todd', 'toddphillips', 'tokyo', 'told', 'tom', 'tomcruise', 'tomhanks', 'tomhardy', 'tommy', 'tommyleejones', 'tomshadyac', 'tomwilkinson', 'tonicollette', 'tony', 'tonyscott', 'took', 'tormented', 'torn', 'tornado', 'toronto', 'torture', 'tortured', 'total', 'totally', 'touch', 'touches', 'touching', 'tough', 'toughest', 'tour', 'tourist', 'tournament', 'town', 'toxic', 'toy', 'toycomestolife', 'toys', 'track', 'tracking', 'tracks', 'tracy', 'trade', 'tradition', 'traditional', 'traffic', 'trafficking', 'tragedy', 'tragic', 'trail', 'train', 'trained', 'trainer', 'training', 'trains', 'traitor', 'transfer', 'transform', 'transformation', 'transformed', 'transformers', 'transforming', 'transforms', 'transported', 'transporter', 'trap', 'trapped', 'traps', 'trauma', 'traumatic', 'travel', 'traveling', 'travels', 'treacherous', 'treasure', 'treasurehunt', 'treat', 'treatment', 'tree', 'trek', 'trial', 'trials', 'triangle', 'tribe', 'trick', 'tried', 'tries', 'trilogy', 'trio', 'trip', 'troops', 'tropical', 'trouble', 'troubled', 'troy', 'truck', 'trucker', 'true', 'truly', 'trust', 'truth', 'try', 'trying', 'tunnel', 'turmoil', 'turn', 'turned', 'turner', 'turning', 'turns', 'turtle', 'turtles', 'tv', 'tvmovie', 'tvshow', 'tvstation', 'twin', 'twinbrother', 'twins', 'twist', 'twisted', 'tycoon', 'tyler', 'tylerperry', 'type', 'typical', 'tyrannical', 'téaleoni', 'ufo', 'ugly', 'ultimate', 'ultimately', 'ultra', 'umathurman', 'unable', 'unaware', 'uncle', 'unconventional', 'uncover', 'uncovering', 'uncovers', 'undead', 'undercover', 'undercoveragent', 'undercovercop', 'underdog', 'underground', 'understand', 'underwater', 'underworld', 'unemployed', 'unemployment', 'unexpected', 'unexpectedly', 'unfold', 'unforeseen', 'unforgettable', 'unfortunate', 'unfortunately', 'unimaginable', 'union', 'unique', 'unit', 'unite', 'united', 'universe', 'university', 'unknown', 'unleash', 'unleashed', 'unleashing', 'unlikely', 'unlock', 'unorthodox', 'unprecedented', 'unravel', 'unrequitedlove', 'unsimulatedsex', 'unsociability', 'unstable', 'unstoppable', 'unsuspecting', 'unusual', 'unwitting', 'unwittingly', 'upcoming', 'upper', 'upperclass', 'uprising', 'ups', 'upside', 'uptight', 'urban', 'usa', 'usapresident', 'use', 'used', 'uses', 'using', 'utah', 'vacation', 'val', 'valentine', 'valkilmer', 'valley', 'valuable', 'value', 'values', 'vampire', 'vampires', 'van', 'vandalism', 'vanessa', 'vanessahudgens', 'variety', 'various', 'vast', 'vatican', 'vault', 've', 'vegas', 'vegetarian', 'vengeance', 'vengeful', 'venice', 'verafarmiga', 'verge', 'version', 'verylittledialogue', 'veteran', 'vice', 'vicious', 'victim', 'victims', 'victor', 'victoria', 'victory', 'video', 'videogame', 'vienna', 'vietnam', 'vietnamveteran', 'vietnamwar', 'view', 'viggomortensen', 'vigilante', 'village', 'villain', 'villainous', 'villains', 'vincent', 'vincevaughn', 'vindiesel', 'vineyard', 'violence', 'violent', 'virgin', 'virginia', 'virginiamadsen', 'virginity', 'virtualreality', 'virus', 'vision', 'visions', 'visit', 'visited', 'visits', 'voice', 'volatile', 'volcano', 'volunteers', 'von', 'voodoo', 'vow', 'vows', 'voyage', 'voyeurism', 'wacky', 'wade', 'wait', 'waiting', 'waitress', 'wake', 'wakes', 'walk', 'walker', 'walking', 'walks', 'wall', 'wallet', 'walls', 'wallstreet', 'walt', 'walter', 'wang', 'want', 'wanted', 'wanting', 'wants', 'war', 'warcrimes', 'ward', 'warden', 'warehouse', 'warfare', 'warlock', 'warlord', 'warondrugs', 'warren', 'warrenbeatty', 'warrior', 'warriors', 'wars', 'washed', 'washington', 'washingtond', 'wasteland', 'watch', 'watches', 'watching', 'water', 'waters', 'wave', 'way', 'ways', 'wealth', 'wealthy', 'weapon', 'weapons', 'wearing', 'weather', 'web', 'website', 'wedding', 'week', 'weekend', 'weeks', 'welcome', 'went', 'werewolf', 'wesbentley', 'wescraven', 'wesley', 'wesleysnipes', 'west', 'western', 'whale', 'wheelchair', 'whip', 'white', 'whitehouse', 'whoopigoldberg', 'wicked', 'wide', 'widow', 'widowed', 'widower', 'wife', 'wifehusbandrelationship', 'wild', 'wilderness', 'wildly', 'willemdafoe', 'willferrell', 'william', 'williamh', 'williamhurt', 'williams', 'williamshatner', 'willing', 'willpatton', 'willsmith', 'wilson', 'win', 'wind', 'window', 'winds', 'wine', 'wing', 'winner', 'winning', 'winonaryder', 'wins', 'winter', 'wise', 'wish', 'wishes', 'witch', 'witches', 'witness', 'witnesses', 'wits', 'wizard', 'wizardry', 'wolf', 'woman', 'womandirector', 'womanizer', 'womanrelation', 'women', 'won', 'wonder', 'wonders', 'woods', 'woody', 'woodyallen', 'woodyharrelson', 'word', 'words', 'work', 'workaholic', 'worked', 'worker', 'workers', 'working', 'works', 'world', 'worlds', 'worldwari', 'worldwarii', 'worldwide', 'worse', 'worst', 'worth', 'wounded', 'wreak', 'wrestling', 'wretch', 'wright', 'write', 'writer', 'writes', 'writing', 'written', 'wrong', 'wwii', 'wyoming', 'xenophobia', 'yacht', 'yakuza', 'yard', 'year', 'years', 'yellow', 'york', 'young', 'youngadult', 'younger', 'youngest', 'youth', 'yuppie', 'zacefron', 'zachgalifianakis', 'zacksnyder', 'zebra', 'zeus', 'zoe', 'zoesaldana', 'zombie', 'zombies', 'zone', 'zoo', 'zooeydeschanel']\n"
     ]
    }
   ],
   "source": [
    "print(list(cv.get_feature_names_out()))"
   ]
  },
  {
   "cell_type": "code",
   "execution_count": 73,
   "metadata": {},
   "outputs": [],
   "source": [
    "# we have to find the distance between all the vector\n",
    "# equilidian distance is not so useful in large dimentional space so we use cosine distance\n",
    "# here a inbuild function in sklearn "
   ]
  },
  {
   "cell_type": "code",
   "execution_count": 74,
   "metadata": {},
   "outputs": [],
   "source": [
    "from sklearn.metrics.pairwise import cosine_similarity"
   ]
  },
  {
   "cell_type": "code",
   "execution_count": 75,
   "metadata": {},
   "outputs": [],
   "source": [
    "similarity = cosine_similarity(vectors)\n"
   ]
  },
  {
   "cell_type": "code",
   "execution_count": 76,
   "metadata": {},
   "outputs": [],
   "source": [
    "# all the diagonal value are 1 because similarity of movie 1 with 1 is 1 and movie 2 with 2 is 1"
   ]
  },
  {
   "cell_type": "code",
   "execution_count": 77,
   "metadata": {},
   "outputs": [
    {
     "data": {
      "text/plain": [
       "array([[1.        , 0.08964215, 0.05976143, ..., 0.02519763, 0.02817181,\n",
       "        0.        ],\n",
       "       [0.08964215, 1.        , 0.0625    , ..., 0.02635231, 0.        ,\n",
       "        0.        ],\n",
       "       [0.05976143, 0.0625    , 1.        , ..., 0.02635231, 0.        ,\n",
       "        0.        ],\n",
       "       ...,\n",
       "       [0.02519763, 0.02635231, 0.02635231, ..., 1.        , 0.0745356 ,\n",
       "        0.04836508],\n",
       "       [0.02817181, 0.        , 0.        , ..., 0.0745356 , 1.        ,\n",
       "        0.05407381],\n",
       "       [0.        , 0.        , 0.        , ..., 0.04836508, 0.05407381,\n",
       "        1.        ]])"
      ]
     },
     "execution_count": 77,
     "metadata": {},
     "output_type": "execute_result"
    }
   ],
   "source": [
    "similarity"
   ]
  },
  {
   "cell_type": "code",
   "execution_count": 78,
   "metadata": {},
   "outputs": [],
   "source": [
    "# we have to create a function which give us 5 similar movie "
   ]
  },
  {
   "cell_type": "code",
   "execution_count": 79,
   "metadata": {},
   "outputs": [
    {
     "ename": "IndexError",
     "evalue": "index 0 is out of bounds for axis 0 with size 0",
     "output_type": "error",
     "traceback": [
      "\u001b[1;31m---------------------------------------------------------------------------\u001b[0m",
      "\u001b[1;31mIndexError\u001b[0m                                Traceback (most recent call last)",
      "Cell \u001b[1;32mIn[79], line 2\u001b[0m\n\u001b[0;32m      1\u001b[0m \u001b[38;5;66;03m# This will gives The movie index\u001b[39;00m\n\u001b[1;32m----> 2\u001b[0m new_df[new_df[\u001b[38;5;124m'\u001b[39m\u001b[38;5;124mtitle\u001b[39m\u001b[38;5;124m'\u001b[39m] \u001b[38;5;241m==\u001b[39m \u001b[38;5;124m'\u001b[39m\u001b[38;5;124m'\u001b[39m]\u001b[38;5;241m.\u001b[39mindex[\u001b[38;5;241m0\u001b[39m]\n",
      "File \u001b[1;32md:\\anaconda\\Lib\\site-packages\\pandas\\core\\indexes\\base.py:5175\u001b[0m, in \u001b[0;36mIndex.__getitem__\u001b[1;34m(self, key)\u001b[0m\n\u001b[0;32m   5172\u001b[0m \u001b[38;5;28;01mif\u001b[39;00m is_integer(key) \u001b[38;5;129;01mor\u001b[39;00m is_float(key):\n\u001b[0;32m   5173\u001b[0m     \u001b[38;5;66;03m# GH#44051 exclude bool, which would return a 2d ndarray\u001b[39;00m\n\u001b[0;32m   5174\u001b[0m     key \u001b[38;5;241m=\u001b[39m com\u001b[38;5;241m.\u001b[39mcast_scalar_indexer(key)\n\u001b[1;32m-> 5175\u001b[0m     \u001b[38;5;28;01mreturn\u001b[39;00m getitem(key)\n\u001b[0;32m   5177\u001b[0m \u001b[38;5;28;01mif\u001b[39;00m \u001b[38;5;28misinstance\u001b[39m(key, \u001b[38;5;28mslice\u001b[39m):\n\u001b[0;32m   5178\u001b[0m     \u001b[38;5;66;03m# This case is separated from the conditional above to avoid\u001b[39;00m\n\u001b[0;32m   5179\u001b[0m     \u001b[38;5;66;03m# pessimization com.is_bool_indexer and ndim checks.\u001b[39;00m\n\u001b[0;32m   5180\u001b[0m     result \u001b[38;5;241m=\u001b[39m getitem(key)\n",
      "\u001b[1;31mIndexError\u001b[0m: index 0 is out of bounds for axis 0 with size 0"
     ]
    }
   ],
   "source": [
    "# This will gives The movie index\n",
    "new_df[new_df['title'] == ''].index[0]"
   ]
  },
  {
   "cell_type": "code",
   "execution_count": null,
   "metadata": {},
   "outputs": [],
   "source": [
    "# This code gives the 5 movie name \n",
    "#sorted(list(enumerate(distance)) , reverse=True , key=lambda x:x[1])[1:6]"
   ]
  },
  {
   "cell_type": "code",
   "execution_count": null,
   "metadata": {},
   "outputs": [],
   "source": [
    "def recomend(movie):\n",
    "    movie_index = new_df[new_df['title'] == movie].index[0]\n",
    "    distance = similarity[movie_index]\n",
    "    movie_list = sorted(list(enumerate(distance)) , reverse=True , key=lambda x:x[1])[1:6]\n",
    "\n",
    "    for i in movie_list:\n",
    "        print(new_df.iloc[i[0]].title)"
   ]
  },
  {
   "cell_type": "code",
   "execution_count": null,
   "metadata": {},
   "outputs": [
    {
     "name": "stdout",
     "output_type": "stream",
     "text": [
      "Batman\n",
      "Batman & Robin\n",
      "The Dark Knight Rises\n",
      "Batman Begins\n",
      "Batman Returns\n"
     ]
    }
   ],
   "source": [
    "recomend('Batman')\n"
   ]
  },
  {
   "cell_type": "code",
   "execution_count": null,
   "metadata": {},
   "outputs": [
    {
     "name": "stdout",
     "output_type": "stream",
     "text": [
      "The Dark Knight\n",
      "The Dark Knight Rises\n",
      "Batman\n",
      "Batman & Robin\n",
      "Batman\n"
     ]
    }
   ],
   "source": [
    "\n",
    "recomend('Batman Begins')"
   ]
  },
  {
   "cell_type": "code",
   "execution_count": null,
   "metadata": {},
   "outputs": [],
   "source": [
    "import pickle"
   ]
  },
  {
   "cell_type": "code",
   "execution_count": null,
   "metadata": {},
   "outputs": [],
   "source": [
    "pickle.dump(new_df , open('movie.pkl' ,'wb'))"
   ]
  },
  {
   "cell_type": "code",
   "execution_count": null,
   "metadata": {},
   "outputs": [
    {
     "data": {
      "text/plain": [
       "array(['Avatar', \"Pirates of the Caribbean: At World's End\", 'Spectre',\n",
       "       ..., 'Signed, Sealed, Delivered', 'Shanghai Calling',\n",
       "       'My Date with Drew'], dtype=object)"
      ]
     },
     "execution_count": 86,
     "metadata": {},
     "output_type": "execute_result"
    }
   ],
   "source": [
    "new_df['title'].values"
   ]
  },
  {
   "cell_type": "code",
   "execution_count": null,
   "metadata": {},
   "outputs": [],
   "source": [
    "pickle.dump(similarity , open('similarity.pkl' , 'wb'))"
   ]
  },
  {
   "cell_type": "code",
   "execution_count": null,
   "metadata": {},
   "outputs": [],
   "source": []
  }
 ],
 "metadata": {
  "kernelspec": {
   "display_name": "base",
   "language": "python",
   "name": "python3"
  },
  "language_info": {
   "codemirror_mode": {
    "name": "ipython",
    "version": 3
   },
   "file_extension": ".py",
   "mimetype": "text/x-python",
   "name": "python",
   "nbconvert_exporter": "python",
   "pygments_lexer": "ipython3",
   "version": "3.11.5"
  }
 },
 "nbformat": 4,
 "nbformat_minor": 2
}
